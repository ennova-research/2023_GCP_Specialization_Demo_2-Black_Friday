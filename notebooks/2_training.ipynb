{
 "cells": [
  {
   "cell_type": "markdown",
   "metadata": {},
   "source": [
    "# Training"
   ]
  },
  {
   "cell_type": "code",
   "execution_count": 9,
   "metadata": {},
   "outputs": [],
   "source": [
    "# Loading useful libraries\n",
    "\n",
    "import numpy as np\n",
    "import pandas as pd\n",
    "\n",
    "import optuna\n",
    "import os\n",
    "import pickle\n",
    "import random\n",
    "\n",
    "from lightgbm import LGBMClassifier, LGBMRegressor\n",
    "# from sklearn.ensemble import RandomForestClassifier, RandomForestRegressor\n",
    "from sklearn.metrics import accuracy_score, f1_score, precision_score, recall_score, r2_score\n",
    "from sklearn.model_selection import cross_val_score"
   ]
  },
  {
   "cell_type": "code",
   "execution_count": 2,
   "metadata": {},
   "outputs": [],
   "source": [
    "# Selecting \"regression\" or \"classification\"\n",
    "\n",
    "model_type = \"classification\"\n",
    "\n",
    "assert(model_type in [\"regression\", \"classification\"])"
   ]
  },
  {
   "cell_type": "code",
   "execution_count": 3,
   "metadata": {},
   "outputs": [],
   "source": [
    "# Loading data\n",
    "\n",
    "X_train = pd.read_csv(f'../tmp/X_train_{model_type}.csv', index_col='User_ID')\n",
    "y_train = pd.read_csv(f'../tmp/y_train_{model_type}.csv', index_col='User_ID')['is_BigSpender']"
   ]
  },
  {
   "cell_type": "code",
   "execution_count": 4,
   "metadata": {},
   "outputs": [
    {
     "name": "stderr",
     "output_type": "stream",
     "text": [
      "[I 2023-11-29 15:26:13,869] A new study created in memory with name: no-name-5515d770-48ac-4d4d-930c-1baad4a6e810\n",
      "c:\\Users\\enric\\anaconda3\\envs\\gcp_demo2\\Lib\\site-packages\\optuna\\trial\\_trial.py:677: RuntimeWarning: Inconsistent parameter values for distribution with name \"max_depth\"! This might be a configuration mistake. Optuna allows to call the same distribution with the same name more than once in a trial. When the parameter values are inconsistent optuna only uses the values of the first call and ignores all following. Using these values: {'log': False, 'step': 1, 'low': 10, 'high': 50}\n",
      "  warnings.warn(\n"
     ]
    },
    {
     "name": "stdout",
     "output_type": "stream",
     "text": [
      "[LightGBM] [Info] Number of positive: 1124, number of negative: 2646\n",
      "[LightGBM] [Info] Auto-choosing row-wise multi-threading, the overhead of testing was 0.000092 seconds.\n",
      "You can set `force_row_wise=true` to remove the overhead.\n",
      "And if memory is not enough, you can set `force_col_wise=true`.\n",
      "[LightGBM] [Info] Total Bins 40\n",
      "[LightGBM] [Info] Number of data points in the train set: 3770, number of used features: 6\n",
      "[LightGBM] [Info] [binary:BoostFromScore]: pavg=0.298143 -> initscore=-0.856155\n",
      "[LightGBM] [Info] Start training from score -0.856155\n"
     ]
    },
    {
     "name": "stderr",
     "output_type": "stream",
     "text": [
      "[I 2023-11-29 15:26:14,577] Trial 0 finished with value: 0.3931034482758621 and parameters: {'n_estimators': 743, 'max_depth': 46}. Best is trial 0 with value: 0.3931034482758621.\n"
     ]
    },
    {
     "name": "stdout",
     "output_type": "stream",
     "text": [
      "0.3931034482758621\n",
      "[LightGBM] [Info] Number of positive: 1124, number of negative: 2646\n",
      "[LightGBM] [Info] Auto-choosing row-wise multi-threading, the overhead of testing was 0.000057 seconds.\n",
      "You can set `force_row_wise=true` to remove the overhead.\n",
      "And if memory is not enough, you can set `force_col_wise=true`.\n",
      "[LightGBM] [Info] Total Bins 40\n",
      "[LightGBM] [Info] Number of data points in the train set: 3770, number of used features: 6\n",
      "[LightGBM] [Info] [binary:BoostFromScore]: pavg=0.298143 -> initscore=-0.856155\n",
      "[LightGBM] [Info] Start training from score -0.856155\n"
     ]
    },
    {
     "name": "stderr",
     "output_type": "stream",
     "text": [
      "c:\\Users\\enric\\anaconda3\\envs\\gcp_demo2\\Lib\\site-packages\\optuna\\trial\\_trial.py:677: RuntimeWarning: Inconsistent parameter values for distribution with name \"max_depth\"! This might be a configuration mistake. Optuna allows to call the same distribution with the same name more than once in a trial. When the parameter values are inconsistent optuna only uses the values of the first call and ignores all following. Using these values: {'log': False, 'step': 1, 'low': 10, 'high': 50}\n",
      "  warnings.warn(\n",
      "[I 2023-11-29 15:26:15,219] Trial 1 finished with value: 0.38275862068965516 and parameters: {'n_estimators': 763, 'max_depth': 49}. Best is trial 0 with value: 0.3931034482758621.\n"
     ]
    },
    {
     "name": "stdout",
     "output_type": "stream",
     "text": [
      "0.38275862068965516\n",
      "[LightGBM] [Info] Number of positive: 1124, number of negative: 2646\n",
      "[LightGBM] [Info] Auto-choosing row-wise multi-threading, the overhead of testing was 0.000050 seconds.\n",
      "You can set `force_row_wise=true` to remove the overhead.\n",
      "And if memory is not enough, you can set `force_col_wise=true`.\n",
      "[LightGBM] [Info] Total Bins 40\n",
      "[LightGBM] [Info] Number of data points in the train set: 3770, number of used features: 6\n",
      "[LightGBM] [Info] [binary:BoostFromScore]: pavg=0.298143 -> initscore=-0.856155\n",
      "[LightGBM] [Info] Start training from score -0.856155\n"
     ]
    },
    {
     "name": "stderr",
     "output_type": "stream",
     "text": [
      "c:\\Users\\enric\\anaconda3\\envs\\gcp_demo2\\Lib\\site-packages\\optuna\\trial\\_trial.py:677: RuntimeWarning: Inconsistent parameter values for distribution with name \"max_depth\"! This might be a configuration mistake. Optuna allows to call the same distribution with the same name more than once in a trial. When the parameter values are inconsistent optuna only uses the values of the first call and ignores all following. Using these values: {'log': False, 'step': 1, 'low': 10, 'high': 50}\n",
      "  warnings.warn(\n",
      "[I 2023-11-29 15:26:15,769] Trial 2 finished with value: 0.4 and parameters: {'n_estimators': 822, 'max_depth': 34}. Best is trial 2 with value: 0.4.\n"
     ]
    },
    {
     "name": "stdout",
     "output_type": "stream",
     "text": [
      "0.4\n",
      "[LightGBM] [Info] Number of positive: 1124, number of negative: 2646\n",
      "[LightGBM] [Info] Auto-choosing row-wise multi-threading, the overhead of testing was 0.000140 seconds.\n",
      "You can set `force_row_wise=true` to remove the overhead.\n",
      "And if memory is not enough, you can set `force_col_wise=true`.\n",
      "[LightGBM] [Info] Total Bins 40\n",
      "[LightGBM] [Info] Number of data points in the train set: 3770, number of used features: 6\n",
      "[LightGBM] [Info] [binary:BoostFromScore]: pavg=0.298143 -> initscore=-0.856155\n",
      "[LightGBM] [Info] Start training from score -0.856155\n"
     ]
    },
    {
     "name": "stderr",
     "output_type": "stream",
     "text": [
      "c:\\Users\\enric\\anaconda3\\envs\\gcp_demo2\\Lib\\site-packages\\optuna\\trial\\_trial.py:677: RuntimeWarning: Inconsistent parameter values for distribution with name \"max_depth\"! This might be a configuration mistake. Optuna allows to call the same distribution with the same name more than once in a trial. When the parameter values are inconsistent optuna only uses the values of the first call and ignores all following. Using these values: {'log': False, 'step': 1, 'low': 10, 'high': 50}\n",
      "  warnings.warn(\n",
      "[I 2023-11-29 15:26:16,043] Trial 3 finished with value: 0.3586206896551724 and parameters: {'n_estimators': 518, 'max_depth': 24}. Best is trial 2 with value: 0.4.\n",
      "c:\\Users\\enric\\anaconda3\\envs\\gcp_demo2\\Lib\\site-packages\\optuna\\trial\\_trial.py:677: RuntimeWarning: Inconsistent parameter values for distribution with name \"max_depth\"! This might be a configuration mistake. Optuna allows to call the same distribution with the same name more than once in a trial. When the parameter values are inconsistent optuna only uses the values of the first call and ignores all following. Using these values: {'log': False, 'step': 1, 'low': 10, 'high': 50}\n",
      "  warnings.warn(\n",
      "[I 2023-11-29 15:26:16,186] Trial 4 finished with value: 0.3758620689655172 and parameters: {'n_estimators': 328, 'max_depth': 19}. Best is trial 2 with value: 0.4.\n",
      "c:\\Users\\enric\\anaconda3\\envs\\gcp_demo2\\Lib\\site-packages\\optuna\\trial\\_trial.py:677: RuntimeWarning: Inconsistent parameter values for distribution with name \"max_depth\"! This might be a configuration mistake. Optuna allows to call the same distribution with the same name more than once in a trial. When the parameter values are inconsistent optuna only uses the values of the first call and ignores all following. Using these values: {'log': False, 'step': 1, 'low': 10, 'high': 50}\n",
      "  warnings.warn(\n",
      "[I 2023-11-29 15:26:16,235] Trial 5 finished with value: 0.31724137931034485 and parameters: {'n_estimators': 55, 'max_depth': 28}. Best is trial 2 with value: 0.4.\n"
     ]
    },
    {
     "name": "stdout",
     "output_type": "stream",
     "text": [
      "0.3586206896551724\n",
      "[LightGBM] [Info] Number of positive: 1124, number of negative: 2646\n",
      "[LightGBM] [Info] Auto-choosing row-wise multi-threading, the overhead of testing was 0.000053 seconds.\n",
      "You can set `force_row_wise=true` to remove the overhead.\n",
      "And if memory is not enough, you can set `force_col_wise=true`.\n",
      "[LightGBM] [Info] Total Bins 40\n",
      "[LightGBM] [Info] Number of data points in the train set: 3770, number of used features: 6\n",
      "[LightGBM] [Info] [binary:BoostFromScore]: pavg=0.298143 -> initscore=-0.856155\n",
      "[LightGBM] [Info] Start training from score -0.856155\n",
      "0.3758620689655172\n",
      "[LightGBM] [Info] Number of positive: 1124, number of negative: 2646\n",
      "[LightGBM] [Info] Auto-choosing row-wise multi-threading, the overhead of testing was 0.000055 seconds.\n",
      "You can set `force_row_wise=true` to remove the overhead.\n",
      "And if memory is not enough, you can set `force_col_wise=true`.\n",
      "[LightGBM] [Info] Total Bins 40\n",
      "[LightGBM] [Info] Number of data points in the train set: 3770, number of used features: 6\n",
      "[LightGBM] [Info] [binary:BoostFromScore]: pavg=0.298143 -> initscore=-0.856155\n",
      "[LightGBM] [Info] Start training from score -0.856155\n",
      "0.31724137931034485\n"
     ]
    },
    {
     "name": "stderr",
     "output_type": "stream",
     "text": [
      "c:\\Users\\enric\\anaconda3\\envs\\gcp_demo2\\Lib\\site-packages\\optuna\\trial\\_trial.py:677: RuntimeWarning: Inconsistent parameter values for distribution with name \"max_depth\"! This might be a configuration mistake. Optuna allows to call the same distribution with the same name more than once in a trial. When the parameter values are inconsistent optuna only uses the values of the first call and ignores all following. Using these values: {'log': False, 'step': 1, 'low': 10, 'high': 50}\n",
      "  warnings.warn(\n"
     ]
    },
    {
     "name": "stdout",
     "output_type": "stream",
     "text": [
      "[LightGBM] [Info] Number of positive: 1124, number of negative: 2646\n",
      "[LightGBM] [Info] Auto-choosing row-wise multi-threading, the overhead of testing was 0.000067 seconds.\n",
      "You can set `force_row_wise=true` to remove the overhead.\n",
      "And if memory is not enough, you can set `force_col_wise=true`.\n",
      "[LightGBM] [Info] Total Bins 40\n",
      "[LightGBM] [Info] Number of data points in the train set: 3770, number of used features: 6\n",
      "[LightGBM] [Info] [binary:BoostFromScore]: pavg=0.298143 -> initscore=-0.856155\n",
      "[LightGBM] [Info] Start training from score -0.856155\n"
     ]
    },
    {
     "name": "stderr",
     "output_type": "stream",
     "text": [
      "[I 2023-11-29 15:26:16,490] Trial 6 finished with value: 0.3586206896551724 and parameters: {'n_estimators': 330, 'max_depth': 38}. Best is trial 2 with value: 0.4.\n",
      "c:\\Users\\enric\\anaconda3\\envs\\gcp_demo2\\Lib\\site-packages\\optuna\\trial\\_trial.py:677: RuntimeWarning: Inconsistent parameter values for distribution with name \"max_depth\"! This might be a configuration mistake. Optuna allows to call the same distribution with the same name more than once in a trial. When the parameter values are inconsistent optuna only uses the values of the first call and ignores all following. Using these values: {'log': False, 'step': 1, 'low': 10, 'high': 50}\n",
      "  warnings.warn(\n",
      "[I 2023-11-29 15:26:16,602] Trial 7 finished with value: 0.3482758620689655 and parameters: {'n_estimators': 123, 'max_depth': 39}. Best is trial 2 with value: 0.4.\n"
     ]
    },
    {
     "name": "stdout",
     "output_type": "stream",
     "text": [
      "0.3586206896551724\n",
      "[LightGBM] [Info] Number of positive: 1124, number of negative: 2646\n",
      "[LightGBM] [Info] Auto-choosing row-wise multi-threading, the overhead of testing was 0.000078 seconds.\n",
      "You can set `force_row_wise=true` to remove the overhead.\n",
      "And if memory is not enough, you can set `force_col_wise=true`.\n",
      "[LightGBM] [Info] Total Bins 40\n",
      "[LightGBM] [Info] Number of data points in the train set: 3770, number of used features: 6\n",
      "[LightGBM] [Info] [binary:BoostFromScore]: pavg=0.298143 -> initscore=-0.856155\n",
      "[LightGBM] [Info] Start training from score -0.856155\n",
      "0.3482758620689655\n",
      "[LightGBM] [Info] Number of positive: 1124, number of negative: 2646\n",
      "[LightGBM] [Info] Auto-choosing row-wise multi-threading, the overhead of testing was 0.000057 seconds.\n",
      "You can set `force_row_wise=true` to remove the overhead.\n",
      "And if memory is not enough, you can set `force_col_wise=true`.\n",
      "[LightGBM] [Info] Total Bins 40\n",
      "[LightGBM] [Info] Number of data points in the train set: 3770, number of used features: 6\n",
      "[LightGBM] [Info] [binary:BoostFromScore]: pavg=0.298143 -> initscore=-0.856155\n",
      "[LightGBM] [Info] Start training from score -0.856155\n"
     ]
    },
    {
     "name": "stderr",
     "output_type": "stream",
     "text": [
      "c:\\Users\\enric\\anaconda3\\envs\\gcp_demo2\\Lib\\site-packages\\optuna\\trial\\_trial.py:677: RuntimeWarning: Inconsistent parameter values for distribution with name \"max_depth\"! This might be a configuration mistake. Optuna allows to call the same distribution with the same name more than once in a trial. When the parameter values are inconsistent optuna only uses the values of the first call and ignores all following. Using these values: {'log': False, 'step': 1, 'low': 10, 'high': 50}\n",
      "  warnings.warn(\n",
      "[I 2023-11-29 15:26:16,886] Trial 8 finished with value: 0.3448275862068966 and parameters: {'n_estimators': 459, 'max_depth': 15}. Best is trial 2 with value: 0.4.\n"
     ]
    },
    {
     "name": "stdout",
     "output_type": "stream",
     "text": [
      "0.3448275862068966\n",
      "[LightGBM] [Info] Number of positive: 1124, number of negative: 2646\n",
      "[LightGBM] [Info] Auto-choosing row-wise multi-threading, the overhead of testing was 0.000073 seconds.\n",
      "You can set `force_row_wise=true` to remove the overhead.\n",
      "And if memory is not enough, you can set `force_col_wise=true`.\n",
      "[LightGBM] [Info] Total Bins 40\n",
      "[LightGBM] [Info] Number of data points in the train set: 3770, number of used features: 6\n",
      "[LightGBM] [Info] [binary:BoostFromScore]: pavg=0.298143 -> initscore=-0.856155\n",
      "[LightGBM] [Info] Start training from score -0.856155\n"
     ]
    },
    {
     "name": "stderr",
     "output_type": "stream",
     "text": [
      "c:\\Users\\enric\\anaconda3\\envs\\gcp_demo2\\Lib\\site-packages\\optuna\\trial\\_trial.py:677: RuntimeWarning: Inconsistent parameter values for distribution with name \"max_depth\"! This might be a configuration mistake. Optuna allows to call the same distribution with the same name more than once in a trial. When the parameter values are inconsistent optuna only uses the values of the first call and ignores all following. Using these values: {'log': False, 'step': 1, 'low': 10, 'high': 50}\n",
      "  warnings.warn(\n",
      "[I 2023-11-29 15:26:17,352] Trial 9 finished with value: 0.39655172413793105 and parameters: {'n_estimators': 744, 'max_depth': 34}. Best is trial 2 with value: 0.4.\n"
     ]
    },
    {
     "name": "stdout",
     "output_type": "stream",
     "text": [
      "0.39655172413793105\n",
      "[LightGBM] [Info] Number of positive: 1124, number of negative: 2646\n",
      "[LightGBM] [Info] Auto-choosing row-wise multi-threading, the overhead of testing was 0.000060 seconds.\n",
      "You can set `force_row_wise=true` to remove the overhead.\n",
      "And if memory is not enough, you can set `force_col_wise=true`.\n",
      "[LightGBM] [Info] Total Bins 40\n",
      "[LightGBM] [Info] Number of data points in the train set: 3770, number of used features: 6\n",
      "[LightGBM] [Info] [binary:BoostFromScore]: pavg=0.298143 -> initscore=-0.856155\n",
      "[LightGBM] [Info] Start training from score -0.856155\n"
     ]
    },
    {
     "name": "stderr",
     "output_type": "stream",
     "text": [
      "c:\\Users\\enric\\anaconda3\\envs\\gcp_demo2\\Lib\\site-packages\\optuna\\trial\\_trial.py:677: RuntimeWarning: Inconsistent parameter values for distribution with name \"max_depth\"! This might be a configuration mistake. Optuna allows to call the same distribution with the same name more than once in a trial. When the parameter values are inconsistent optuna only uses the values of the first call and ignores all following. Using these values: {'log': False, 'step': 1, 'low': 10, 'high': 50}\n",
      "  warnings.warn(\n",
      "[I 2023-11-29 15:26:17,624] Trial 10 finished with value: 0.35517241379310344 and parameters: {'n_estimators': 985, 'max_depth': 10}. Best is trial 2 with value: 0.4.\n"
     ]
    },
    {
     "name": "stdout",
     "output_type": "stream",
     "text": [
      "0.35517241379310344\n",
      "[LightGBM] [Info] Number of positive: 1124, number of negative: 2646\n",
      "[LightGBM] [Info] Auto-choosing row-wise multi-threading, the overhead of testing was 0.000068 seconds.\n",
      "You can set `force_row_wise=true` to remove the overhead.\n",
      "And if memory is not enough, you can set `force_col_wise=true`.\n",
      "[LightGBM] [Info] Total Bins 40\n",
      "[LightGBM] [Info] Number of data points in the train set: 3770, number of used features: 6\n",
      "[LightGBM] [Info] [binary:BoostFromScore]: pavg=0.298143 -> initscore=-0.856155\n",
      "[LightGBM] [Info] Start training from score -0.856155\n"
     ]
    },
    {
     "name": "stderr",
     "output_type": "stream",
     "text": [
      "c:\\Users\\enric\\anaconda3\\envs\\gcp_demo2\\Lib\\site-packages\\optuna\\trial\\_trial.py:677: RuntimeWarning: Inconsistent parameter values for distribution with name \"max_depth\"! This might be a configuration mistake. Optuna allows to call the same distribution with the same name more than once in a trial. When the parameter values are inconsistent optuna only uses the values of the first call and ignores all following. Using these values: {'log': False, 'step': 1, 'low': 10, 'high': 50}\n",
      "  warnings.warn(\n",
      "[I 2023-11-29 15:26:18,267] Trial 11 finished with value: 0.3931034482758621 and parameters: {'n_estimators': 835, 'max_depth': 35}. Best is trial 2 with value: 0.4.\n"
     ]
    },
    {
     "name": "stdout",
     "output_type": "stream",
     "text": [
      "0.3931034482758621\n",
      "[LightGBM] [Info] Number of positive: 1124, number of negative: 2646\n",
      "[LightGBM] [Info] Auto-choosing row-wise multi-threading, the overhead of testing was 0.000072 seconds.\n",
      "You can set `force_row_wise=true` to remove the overhead.\n",
      "And if memory is not enough, you can set `force_col_wise=true`.\n",
      "[LightGBM] [Info] Total Bins 40\n",
      "[LightGBM] [Info] Number of data points in the train set: 3770, number of used features: 6\n",
      "[LightGBM] [Info] [binary:BoostFromScore]: pavg=0.298143 -> initscore=-0.856155\n",
      "[LightGBM] [Info] Start training from score -0.856155\n"
     ]
    },
    {
     "name": "stderr",
     "output_type": "stream",
     "text": [
      "c:\\Users\\enric\\anaconda3\\envs\\gcp_demo2\\Lib\\site-packages\\optuna\\trial\\_trial.py:677: RuntimeWarning: Inconsistent parameter values for distribution with name \"max_depth\"! This might be a configuration mistake. Optuna allows to call the same distribution with the same name more than once in a trial. When the parameter values are inconsistent optuna only uses the values of the first call and ignores all following. Using these values: {'log': False, 'step': 1, 'low': 10, 'high': 50}\n",
      "  warnings.warn(\n",
      "[I 2023-11-29 15:26:18,654] Trial 12 finished with value: 0.3758620689655172 and parameters: {'n_estimators': 621, 'max_depth': 32}. Best is trial 2 with value: 0.4.\n"
     ]
    },
    {
     "name": "stdout",
     "output_type": "stream",
     "text": [
      "0.3758620689655172\n",
      "[LightGBM] [Info] Number of positive: 1124, number of negative: 2646\n",
      "[LightGBM] [Info] Auto-choosing row-wise multi-threading, the overhead of testing was 0.000047 seconds.\n",
      "You can set `force_row_wise=true` to remove the overhead.\n",
      "And if memory is not enough, you can set `force_col_wise=true`.\n",
      "[LightGBM] [Info] Total Bins 40\n",
      "[LightGBM] [Info] Number of data points in the train set: 3770, number of used features: 6\n",
      "[LightGBM] [Info] [binary:BoostFromScore]: pavg=0.298143 -> initscore=-0.856155\n",
      "[LightGBM] [Info] Start training from score -0.856155\n"
     ]
    },
    {
     "name": "stderr",
     "output_type": "stream",
     "text": [
      "c:\\Users\\enric\\anaconda3\\envs\\gcp_demo2\\Lib\\site-packages\\optuna\\trial\\_trial.py:677: RuntimeWarning: Inconsistent parameter values for distribution with name \"max_depth\"! This might be a configuration mistake. Optuna allows to call the same distribution with the same name more than once in a trial. When the parameter values are inconsistent optuna only uses the values of the first call and ignores all following. Using these values: {'log': False, 'step': 1, 'low': 10, 'high': 50}\n",
      "  warnings.warn(\n",
      "[I 2023-11-29 15:26:19,359] Trial 13 finished with value: 0.3724137931034483 and parameters: {'n_estimators': 955, 'max_depth': 43}. Best is trial 2 with value: 0.4.\n"
     ]
    },
    {
     "name": "stdout",
     "output_type": "stream",
     "text": [
      "0.3724137931034483\n",
      "[LightGBM] [Info] Number of positive: 1124, number of negative: 2646\n",
      "[LightGBM] [Info] Auto-choosing row-wise multi-threading, the overhead of testing was 0.000054 seconds.\n",
      "You can set `force_row_wise=true` to remove the overhead.\n",
      "And if memory is not enough, you can set `force_col_wise=true`.\n",
      "[LightGBM] [Info] Total Bins 40\n",
      "[LightGBM] [Info] Number of data points in the train set: 3770, number of used features: 6\n",
      "[LightGBM] [Info] [binary:BoostFromScore]: pavg=0.298143 -> initscore=-0.856155\n",
      "[LightGBM] [Info] Start training from score -0.856155\n"
     ]
    },
    {
     "name": "stderr",
     "output_type": "stream",
     "text": [
      "c:\\Users\\enric\\anaconda3\\envs\\gcp_demo2\\Lib\\site-packages\\optuna\\trial\\_trial.py:677: RuntimeWarning: Inconsistent parameter values for distribution with name \"max_depth\"! This might be a configuration mistake. Optuna allows to call the same distribution with the same name more than once in a trial. When the parameter values are inconsistent optuna only uses the values of the first call and ignores all following. Using these values: {'log': False, 'step': 1, 'low': 10, 'high': 50}\n",
      "  warnings.warn(\n",
      "[I 2023-11-29 15:26:19,712] Trial 14 finished with value: 0.3724137931034483 and parameters: {'n_estimators': 659, 'max_depth': 27}. Best is trial 2 with value: 0.4.\n"
     ]
    },
    {
     "name": "stdout",
     "output_type": "stream",
     "text": [
      "0.3724137931034483\n",
      "[LightGBM] [Info] Number of positive: 1124, number of negative: 2646\n",
      "[LightGBM] [Info] Auto-choosing row-wise multi-threading, the overhead of testing was 0.000053 seconds.\n",
      "You can set `force_row_wise=true` to remove the overhead.\n",
      "And if memory is not enough, you can set `force_col_wise=true`.\n",
      "[LightGBM] [Info] Total Bins 40\n",
      "[LightGBM] [Info] Number of data points in the train set: 3770, number of used features: 6\n",
      "[LightGBM] [Info] [binary:BoostFromScore]: pavg=0.298143 -> initscore=-0.856155\n",
      "[LightGBM] [Info] Start training from score -0.856155\n"
     ]
    },
    {
     "name": "stderr",
     "output_type": "stream",
     "text": [
      "c:\\Users\\enric\\anaconda3\\envs\\gcp_demo2\\Lib\\site-packages\\optuna\\trial\\_trial.py:677: RuntimeWarning: Inconsistent parameter values for distribution with name \"max_depth\"! This might be a configuration mistake. Optuna allows to call the same distribution with the same name more than once in a trial. When the parameter values are inconsistent optuna only uses the values of the first call and ignores all following. Using these values: {'log': False, 'step': 1, 'low': 10, 'high': 50}\n",
      "  warnings.warn(\n",
      "[I 2023-11-29 15:26:20,308] Trial 15 finished with value: 0.3793103448275862 and parameters: {'n_estimators': 873, 'max_depth': 33}. Best is trial 2 with value: 0.4.\n"
     ]
    },
    {
     "name": "stdout",
     "output_type": "stream",
     "text": [
      "0.3793103448275862\n",
      "[LightGBM] [Info] Number of positive: 1124, number of negative: 2646\n",
      "[LightGBM] [Info] Auto-choosing row-wise multi-threading, the overhead of testing was 0.000115 seconds.\n",
      "You can set `force_row_wise=true` to remove the overhead.\n",
      "And if memory is not enough, you can set `force_col_wise=true`.\n",
      "[LightGBM] [Info] Total Bins 40\n",
      "[LightGBM] [Info] Number of data points in the train set: 3770, number of used features: 6\n",
      "[LightGBM] [Info] [binary:BoostFromScore]: pavg=0.298143 -> initscore=-0.856155\n",
      "[LightGBM] [Info] Start training from score -0.856155\n"
     ]
    },
    {
     "name": "stderr",
     "output_type": "stream",
     "text": [
      "c:\\Users\\enric\\anaconda3\\envs\\gcp_demo2\\Lib\\site-packages\\optuna\\trial\\_trial.py:677: RuntimeWarning: Inconsistent parameter values for distribution with name \"max_depth\"! This might be a configuration mistake. Optuna allows to call the same distribution with the same name more than once in a trial. When the parameter values are inconsistent optuna only uses the values of the first call and ignores all following. Using these values: {'log': False, 'step': 1, 'low': 10, 'high': 50}\n",
      "  warnings.warn(\n",
      "[I 2023-11-29 15:26:20,777] Trial 16 finished with value: 0.3689655172413793 and parameters: {'n_estimators': 632, 'max_depth': 42}. Best is trial 2 with value: 0.4.\n",
      "c:\\Users\\enric\\anaconda3\\envs\\gcp_demo2\\Lib\\site-packages\\optuna\\trial\\_trial.py:677: RuntimeWarning: Inconsistent parameter values for distribution with name \"max_depth\"! This might be a configuration mistake. Optuna allows to call the same distribution with the same name more than once in a trial. When the parameter values are inconsistent optuna only uses the values of the first call and ignores all following. Using these values: {'log': False, 'step': 1, 'low': 10, 'high': 50}\n",
      "  warnings.warn(\n"
     ]
    },
    {
     "name": "stdout",
     "output_type": "stream",
     "text": [
      "0.3689655172413793\n",
      "[LightGBM] [Info] Number of positive: 1124, number of negative: 2646\n",
      "[LightGBM] [Info] Auto-choosing row-wise multi-threading, the overhead of testing was 0.000052 seconds.\n",
      "You can set `force_row_wise=true` to remove the overhead.\n",
      "And if memory is not enough, you can set `force_col_wise=true`.\n",
      "[LightGBM] [Info] Total Bins 40\n",
      "[LightGBM] [Info] Number of data points in the train set: 3770, number of used features: 6\n",
      "[LightGBM] [Info] [binary:BoostFromScore]: pavg=0.298143 -> initscore=-0.856155\n",
      "[LightGBM] [Info] Start training from score -0.856155\n"
     ]
    },
    {
     "name": "stderr",
     "output_type": "stream",
     "text": [
      "[I 2023-11-29 15:26:21,204] Trial 17 finished with value: 0.3586206896551724 and parameters: {'n_estimators': 852, 'max_depth': 24}. Best is trial 2 with value: 0.4.\n"
     ]
    },
    {
     "name": "stdout",
     "output_type": "stream",
     "text": [
      "0.3586206896551724\n",
      "[LightGBM] [Info] Number of positive: 1124, number of negative: 2646\n",
      "[LightGBM] [Info] Auto-choosing row-wise multi-threading, the overhead of testing was 0.000050 seconds.\n",
      "You can set `force_row_wise=true` to remove the overhead.\n",
      "And if memory is not enough, you can set `force_col_wise=true`.\n",
      "[LightGBM] [Info] Total Bins 40\n",
      "[LightGBM] [Info] Number of data points in the train set: 3770, number of used features: 6\n",
      "[LightGBM] [Info] [binary:BoostFromScore]: pavg=0.298143 -> initscore=-0.856155\n",
      "[LightGBM] [Info] Start training from score -0.856155\n"
     ]
    },
    {
     "name": "stderr",
     "output_type": "stream",
     "text": [
      "c:\\Users\\enric\\anaconda3\\envs\\gcp_demo2\\Lib\\site-packages\\optuna\\trial\\_trial.py:677: RuntimeWarning: Inconsistent parameter values for distribution with name \"max_depth\"! This might be a configuration mistake. Optuna allows to call the same distribution with the same name more than once in a trial. When the parameter values are inconsistent optuna only uses the values of the first call and ignores all following. Using these values: {'log': False, 'step': 1, 'low': 10, 'high': 50}\n",
      "  warnings.warn(\n",
      "[I 2023-11-29 15:26:21,557] Trial 18 finished with value: 0.3689655172413793 and parameters: {'n_estimators': 514, 'max_depth': 37}. Best is trial 2 with value: 0.4.\n"
     ]
    },
    {
     "name": "stdout",
     "output_type": "stream",
     "text": [
      "0.3689655172413793\n",
      "[LightGBM] [Info] Number of positive: 1124, number of negative: 2646\n",
      "[LightGBM] [Info] Auto-choosing row-wise multi-threading, the overhead of testing was 0.000053 seconds.\n",
      "You can set `force_row_wise=true` to remove the overhead.\n",
      "And if memory is not enough, you can set `force_col_wise=true`.\n",
      "[LightGBM] [Info] Total Bins 40\n",
      "[LightGBM] [Info] Number of data points in the train set: 3770, number of used features: 6\n",
      "[LightGBM] [Info] [binary:BoostFromScore]: pavg=0.298143 -> initscore=-0.856155\n",
      "[LightGBM] [Info] Start training from score -0.856155\n"
     ]
    },
    {
     "name": "stderr",
     "output_type": "stream",
     "text": [
      "c:\\Users\\enric\\anaconda3\\envs\\gcp_demo2\\Lib\\site-packages\\optuna\\trial\\_trial.py:677: RuntimeWarning: Inconsistent parameter values for distribution with name \"max_depth\"! This might be a configuration mistake. Optuna allows to call the same distribution with the same name more than once in a trial. When the parameter values are inconsistent optuna only uses the values of the first call and ignores all following. Using these values: {'log': False, 'step': 1, 'low': 10, 'high': 50}\n",
      "  warnings.warn(\n",
      "[I 2023-11-29 15:26:21,983] Trial 19 finished with value: 0.38620689655172413 and parameters: {'n_estimators': 716, 'max_depth': 30}. Best is trial 2 with value: 0.4.\n",
      "c:\\Users\\enric\\anaconda3\\envs\\gcp_demo2\\Lib\\site-packages\\optuna\\trial\\_trial.py:677: RuntimeWarning: Inconsistent parameter values for distribution with name \"max_depth\"! This might be a configuration mistake. Optuna allows to call the same distribution with the same name more than once in a trial. When the parameter values are inconsistent optuna only uses the values of the first call and ignores all following. Using these values: {'log': False, 'step': 1, 'low': 10, 'high': 50}\n",
      "  warnings.warn(\n",
      "[I 2023-11-29 15:26:22,155] Trial 20 finished with value: 0.3413793103448276 and parameters: {'n_estimators': 380, 'max_depth': 21}. Best is trial 2 with value: 0.4.\n"
     ]
    },
    {
     "name": "stdout",
     "output_type": "stream",
     "text": [
      "0.38620689655172413\n",
      "[LightGBM] [Info] Number of positive: 1124, number of negative: 2646\n",
      "[LightGBM] [Info] Auto-choosing row-wise multi-threading, the overhead of testing was 0.000072 seconds.\n",
      "You can set `force_row_wise=true` to remove the overhead.\n",
      "And if memory is not enough, you can set `force_col_wise=true`.\n",
      "[LightGBM] [Info] Total Bins 40\n",
      "[LightGBM] [Info] Number of data points in the train set: 3770, number of used features: 6\n",
      "[LightGBM] [Info] [binary:BoostFromScore]: pavg=0.298143 -> initscore=-0.856155\n",
      "[LightGBM] [Info] Start training from score -0.856155\n",
      "0.3413793103448276\n"
     ]
    },
    {
     "name": "stderr",
     "output_type": "stream",
     "text": [
      "c:\\Users\\enric\\anaconda3\\envs\\gcp_demo2\\Lib\\site-packages\\optuna\\trial\\_trial.py:677: RuntimeWarning: Inconsistent parameter values for distribution with name \"max_depth\"! This might be a configuration mistake. Optuna allows to call the same distribution with the same name more than once in a trial. When the parameter values are inconsistent optuna only uses the values of the first call and ignores all following. Using these values: {'log': False, 'step': 1, 'low': 10, 'high': 50}\n",
      "  warnings.warn(\n"
     ]
    },
    {
     "name": "stdout",
     "output_type": "stream",
     "text": [
      "[LightGBM] [Info] Number of positive: 1124, number of negative: 2646\n",
      "[LightGBM] [Info] Auto-choosing row-wise multi-threading, the overhead of testing was 0.000055 seconds.\n",
      "You can set `force_row_wise=true` to remove the overhead.\n",
      "And if memory is not enough, you can set `force_col_wise=true`.\n",
      "[LightGBM] [Info] Total Bins 40\n",
      "[LightGBM] [Info] Number of data points in the train set: 3770, number of used features: 6\n",
      "[LightGBM] [Info] [binary:BoostFromScore]: pavg=0.298143 -> initscore=-0.856155\n",
      "[LightGBM] [Info] Start training from score -0.856155\n"
     ]
    },
    {
     "name": "stderr",
     "output_type": "stream",
     "text": [
      "[I 2023-11-29 15:26:22,906] Trial 21 finished with value: 0.38275862068965516 and parameters: {'n_estimators': 765, 'max_depth': 49}. Best is trial 2 with value: 0.4.\n"
     ]
    },
    {
     "name": "stdout",
     "output_type": "stream",
     "text": [
      "0.38275862068965516\n",
      "[LightGBM] [Info] Number of positive: 1124, number of negative: 2646\n",
      "[LightGBM] [Info] Auto-choosing row-wise multi-threading, the overhead of testing was 0.000090 seconds.\n",
      "You can set `force_row_wise=true` to remove the overhead.\n",
      "And if memory is not enough, you can set `force_col_wise=true`.\n",
      "[LightGBM] [Info] Total Bins 40\n",
      "[LightGBM] [Info] Number of data points in the train set: 3770, number of used features: 6\n",
      "[LightGBM] [Info] [binary:BoostFromScore]: pavg=0.298143 -> initscore=-0.856155\n",
      "[LightGBM] [Info] Start training from score -0.856155\n"
     ]
    },
    {
     "name": "stderr",
     "output_type": "stream",
     "text": [
      "c:\\Users\\enric\\anaconda3\\envs\\gcp_demo2\\Lib\\site-packages\\optuna\\trial\\_trial.py:677: RuntimeWarning: Inconsistent parameter values for distribution with name \"max_depth\"! This might be a configuration mistake. Optuna allows to call the same distribution with the same name more than once in a trial. When the parameter values are inconsistent optuna only uses the values of the first call and ignores all following. Using these values: {'log': False, 'step': 1, 'low': 10, 'high': 50}\n",
      "  warnings.warn(\n",
      "[I 2023-11-29 15:26:23,792] Trial 22 finished with value: 0.3724137931034483 and parameters: {'n_estimators': 908, 'max_depth': 44}. Best is trial 2 with value: 0.4.\n"
     ]
    },
    {
     "name": "stdout",
     "output_type": "stream",
     "text": [
      "0.3724137931034483\n",
      "[LightGBM] [Info] Number of positive: 1124, number of negative: 2646\n",
      "[LightGBM] [Info] Auto-choosing row-wise multi-threading, the overhead of testing was 0.000075 seconds.\n",
      "You can set `force_row_wise=true` to remove the overhead.\n",
      "And if memory is not enough, you can set `force_col_wise=true`.\n",
      "[LightGBM] [Info] Total Bins 40\n",
      "[LightGBM] [Info] Number of data points in the train set: 3770, number of used features: 6\n",
      "[LightGBM] [Info] [binary:BoostFromScore]: pavg=0.298143 -> initscore=-0.856155\n",
      "[LightGBM] [Info] Start training from score -0.856155\n"
     ]
    },
    {
     "name": "stderr",
     "output_type": "stream",
     "text": [
      "c:\\Users\\enric\\anaconda3\\envs\\gcp_demo2\\Lib\\site-packages\\optuna\\trial\\_trial.py:677: RuntimeWarning: Inconsistent parameter values for distribution with name \"max_depth\"! This might be a configuration mistake. Optuna allows to call the same distribution with the same name more than once in a trial. When the parameter values are inconsistent optuna only uses the values of the first call and ignores all following. Using these values: {'log': False, 'step': 1, 'low': 10, 'high': 50}\n",
      "  warnings.warn(\n",
      "[I 2023-11-29 15:26:24,601] Trial 23 finished with value: 0.3931034482758621 and parameters: {'n_estimators': 782, 'max_depth': 46}. Best is trial 2 with value: 0.4.\n"
     ]
    },
    {
     "name": "stdout",
     "output_type": "stream",
     "text": [
      "0.3931034482758621\n",
      "[LightGBM] [Info] Number of positive: 1124, number of negative: 2646\n",
      "[LightGBM] [Info] Auto-choosing row-wise multi-threading, the overhead of testing was 0.000070 seconds.\n",
      "You can set `force_row_wise=true` to remove the overhead.\n",
      "And if memory is not enough, you can set `force_col_wise=true`.\n",
      "[LightGBM] [Info] Total Bins 40\n",
      "[LightGBM] [Info] Number of data points in the train set: 3770, number of used features: 6\n",
      "[LightGBM] [Info] [binary:BoostFromScore]: pavg=0.298143 -> initscore=-0.856155\n",
      "[LightGBM] [Info] Start training from score -0.856155\n"
     ]
    },
    {
     "name": "stderr",
     "output_type": "stream",
     "text": [
      "c:\\Users\\enric\\anaconda3\\envs\\gcp_demo2\\Lib\\site-packages\\optuna\\trial\\_trial.py:677: RuntimeWarning: Inconsistent parameter values for distribution with name \"max_depth\"! This might be a configuration mistake. Optuna allows to call the same distribution with the same name more than once in a trial. When the parameter values are inconsistent optuna only uses the values of the first call and ignores all following. Using these values: {'log': False, 'step': 1, 'low': 10, 'high': 50}\n",
      "  warnings.warn(\n",
      "[I 2023-11-29 15:26:25,134] Trial 24 finished with value: 0.3793103448275862 and parameters: {'n_estimators': 682, 'max_depth': 39}. Best is trial 2 with value: 0.4.\n"
     ]
    },
    {
     "name": "stdout",
     "output_type": "stream",
     "text": [
      "0.3793103448275862\n",
      "[LightGBM] [Info] Number of positive: 1124, number of negative: 2646\n",
      "[LightGBM] [Info] Auto-choosing row-wise multi-threading, the overhead of testing was 0.000061 seconds.\n",
      "You can set `force_row_wise=true` to remove the overhead.\n",
      "And if memory is not enough, you can set `force_col_wise=true`.\n",
      "[LightGBM] [Info] Total Bins 40\n",
      "[LightGBM] [Info] Number of data points in the train set: 3770, number of used features: 6\n",
      "[LightGBM] [Info] [binary:BoostFromScore]: pavg=0.298143 -> initscore=-0.856155\n",
      "[LightGBM] [Info] Start training from score -0.856155\n"
     ]
    },
    {
     "name": "stderr",
     "output_type": "stream",
     "text": [
      "c:\\Users\\enric\\anaconda3\\envs\\gcp_demo2\\Lib\\site-packages\\optuna\\trial\\_trial.py:677: RuntimeWarning: Inconsistent parameter values for distribution with name \"max_depth\"! This might be a configuration mistake. Optuna allows to call the same distribution with the same name more than once in a trial. When the parameter values are inconsistent optuna only uses the values of the first call and ignores all following. Using these values: {'log': False, 'step': 1, 'low': 10, 'high': 50}\n",
      "  warnings.warn(\n",
      "[I 2023-11-29 15:26:25,723] Trial 25 finished with value: 0.3793103448275862 and parameters: {'n_estimators': 999, 'max_depth': 32}. Best is trial 2 with value: 0.4.\n"
     ]
    },
    {
     "name": "stdout",
     "output_type": "stream",
     "text": [
      "0.3793103448275862\n",
      "[LightGBM] [Info] Number of positive: 1124, number of negative: 2646\n",
      "[LightGBM] [Info] Auto-choosing row-wise multi-threading, the overhead of testing was 0.000080 seconds.\n",
      "You can set `force_row_wise=true` to remove the overhead.\n",
      "And if memory is not enough, you can set `force_col_wise=true`.\n",
      "[LightGBM] [Info] Total Bins 40\n",
      "[LightGBM] [Info] Number of data points in the train set: 3770, number of used features: 6\n",
      "[LightGBM] [Info] [binary:BoostFromScore]: pavg=0.298143 -> initscore=-0.856155\n",
      "[LightGBM] [Info] Start training from score -0.856155\n"
     ]
    },
    {
     "name": "stderr",
     "output_type": "stream",
     "text": [
      "c:\\Users\\enric\\anaconda3\\envs\\gcp_demo2\\Lib\\site-packages\\optuna\\trial\\_trial.py:677: RuntimeWarning: Inconsistent parameter values for distribution with name \"max_depth\"! This might be a configuration mistake. Optuna allows to call the same distribution with the same name more than once in a trial. When the parameter values are inconsistent optuna only uses the values of the first call and ignores all following. Using these values: {'log': False, 'step': 1, 'low': 10, 'high': 50}\n",
      "  warnings.warn(\n",
      "[I 2023-11-29 15:26:26,169] Trial 26 finished with value: 0.3896551724137931 and parameters: {'n_estimators': 573, 'max_depth': 41}. Best is trial 2 with value: 0.4.\n"
     ]
    },
    {
     "name": "stdout",
     "output_type": "stream",
     "text": [
      "0.3896551724137931\n",
      "[LightGBM] [Info] Number of positive: 1124, number of negative: 2646\n",
      "[LightGBM] [Info] Auto-choosing row-wise multi-threading, the overhead of testing was 0.000078 seconds.\n",
      "You can set `force_row_wise=true` to remove the overhead.\n",
      "And if memory is not enough, you can set `force_col_wise=true`.\n",
      "[LightGBM] [Info] Total Bins 40\n",
      "[LightGBM] [Info] Number of data points in the train set: 3770, number of used features: 6\n",
      "[LightGBM] [Info] [binary:BoostFromScore]: pavg=0.298143 -> initscore=-0.856155\n",
      "[LightGBM] [Info] Start training from score -0.856155\n"
     ]
    },
    {
     "name": "stderr",
     "output_type": "stream",
     "text": [
      "c:\\Users\\enric\\anaconda3\\envs\\gcp_demo2\\Lib\\site-packages\\optuna\\trial\\_trial.py:677: RuntimeWarning: Inconsistent parameter values for distribution with name \"max_depth\"! This might be a configuration mistake. Optuna allows to call the same distribution with the same name more than once in a trial. When the parameter values are inconsistent optuna only uses the values of the first call and ignores all following. Using these values: {'log': False, 'step': 1, 'low': 10, 'high': 50}\n",
      "  warnings.warn(\n",
      "[I 2023-11-29 15:26:26,828] Trial 27 finished with value: 0.3896551724137931 and parameters: {'n_estimators': 793, 'max_depth': 46}. Best is trial 2 with value: 0.4.\n"
     ]
    },
    {
     "name": "stdout",
     "output_type": "stream",
     "text": [
      "0.3896551724137931\n",
      "[LightGBM] [Info] Number of positive: 1124, number of negative: 2646\n",
      "[LightGBM] [Info] Auto-choosing row-wise multi-threading, the overhead of testing was 0.000074 seconds.\n",
      "You can set `force_row_wise=true` to remove the overhead.\n",
      "And if memory is not enough, you can set `force_col_wise=true`.\n",
      "[LightGBM] [Info] Total Bins 40\n",
      "[LightGBM] [Info] Number of data points in the train set: 3770, number of used features: 6\n",
      "[LightGBM] [Info] [binary:BoostFromScore]: pavg=0.298143 -> initscore=-0.856155\n",
      "[LightGBM] [Info] Start training from score -0.856155\n"
     ]
    },
    {
     "name": "stderr",
     "output_type": "stream",
     "text": [
      "c:\\Users\\enric\\anaconda3\\envs\\gcp_demo2\\Lib\\site-packages\\optuna\\trial\\_trial.py:677: RuntimeWarning: Inconsistent parameter values for distribution with name \"max_depth\"! This might be a configuration mistake. Optuna allows to call the same distribution with the same name more than once in a trial. When the parameter values are inconsistent optuna only uses the values of the first call and ignores all following. Using these values: {'log': False, 'step': 1, 'low': 10, 'high': 50}\n",
      "  warnings.warn(\n",
      "[I 2023-11-29 15:26:27,309] Trial 28 finished with value: 0.3758620689655172 and parameters: {'n_estimators': 718, 'max_depth': 35}. Best is trial 2 with value: 0.4.\n"
     ]
    },
    {
     "name": "stdout",
     "output_type": "stream",
     "text": [
      "0.3758620689655172\n",
      "[LightGBM] [Info] Number of positive: 1124, number of negative: 2646\n",
      "[LightGBM] [Info] Auto-choosing row-wise multi-threading, the overhead of testing was 0.000065 seconds.\n",
      "You can set `force_row_wise=true` to remove the overhead.\n",
      "And if memory is not enough, you can set `force_col_wise=true`.\n",
      "[LightGBM] [Info] Total Bins 40\n",
      "[LightGBM] [Info] Number of data points in the train set: 3770, number of used features: 6\n",
      "[LightGBM] [Info] [binary:BoostFromScore]: pavg=0.298143 -> initscore=-0.856155\n",
      "[LightGBM] [Info] Start training from score -0.856155\n"
     ]
    },
    {
     "name": "stderr",
     "output_type": "stream",
     "text": [
      "c:\\Users\\enric\\anaconda3\\envs\\gcp_demo2\\Lib\\site-packages\\optuna\\trial\\_trial.py:677: RuntimeWarning: Inconsistent parameter values for distribution with name \"max_depth\"! This might be a configuration mistake. Optuna allows to call the same distribution with the same name more than once in a trial. When the parameter values are inconsistent optuna only uses the values of the first call and ignores all following. Using these values: {'log': False, 'step': 1, 'low': 10, 'high': 50}\n",
      "  warnings.warn(\n",
      "[I 2023-11-29 15:26:28,066] Trial 29 finished with value: 0.3896551724137931 and parameters: {'n_estimators': 915, 'max_depth': 48}. Best is trial 2 with value: 0.4.\n"
     ]
    },
    {
     "name": "stdout",
     "output_type": "stream",
     "text": [
      "0.3896551724137931\n",
      "[LightGBM] [Info] Number of positive: 1124, number of negative: 2646\n",
      "[LightGBM] [Info] Auto-choosing row-wise multi-threading, the overhead of testing was 0.000072 seconds.\n",
      "You can set `force_row_wise=true` to remove the overhead.\n",
      "And if memory is not enough, you can set `force_col_wise=true`.\n",
      "[LightGBM] [Info] Total Bins 40\n",
      "[LightGBM] [Info] Number of data points in the train set: 3770, number of used features: 6\n",
      "[LightGBM] [Info] [binary:BoostFromScore]: pavg=0.298143 -> initscore=-0.856155\n",
      "[LightGBM] [Info] Start training from score -0.856155\n"
     ]
    },
    {
     "name": "stderr",
     "output_type": "stream",
     "text": [
      "c:\\Users\\enric\\anaconda3\\envs\\gcp_demo2\\Lib\\site-packages\\optuna\\trial\\_trial.py:677: RuntimeWarning: Inconsistent parameter values for distribution with name \"max_depth\"! This might be a configuration mistake. Optuna allows to call the same distribution with the same name more than once in a trial. When the parameter values are inconsistent optuna only uses the values of the first call and ignores all following. Using these values: {'log': False, 'step': 1, 'low': 10, 'high': 50}\n",
      "  warnings.warn(\n",
      "[I 2023-11-29 15:26:28,511] Trial 30 finished with value: 0.3689655172413793 and parameters: {'n_estimators': 595, 'max_depth': 27}. Best is trial 2 with value: 0.4.\n"
     ]
    },
    {
     "name": "stdout",
     "output_type": "stream",
     "text": [
      "0.3689655172413793\n",
      "[LightGBM] [Info] Number of positive: 1124, number of negative: 2646\n",
      "[LightGBM] [Info] Auto-choosing row-wise multi-threading, the overhead of testing was 0.000078 seconds.\n",
      "You can set `force_row_wise=true` to remove the overhead.\n",
      "And if memory is not enough, you can set `force_col_wise=true`.\n",
      "[LightGBM] [Info] Total Bins 40\n",
      "[LightGBM] [Info] Number of data points in the train set: 3770, number of used features: 6\n",
      "[LightGBM] [Info] [binary:BoostFromScore]: pavg=0.298143 -> initscore=-0.856155\n",
      "[LightGBM] [Info] Start training from score -0.856155\n"
     ]
    },
    {
     "name": "stderr",
     "output_type": "stream",
     "text": [
      "c:\\Users\\enric\\anaconda3\\envs\\gcp_demo2\\Lib\\site-packages\\optuna\\trial\\_trial.py:677: RuntimeWarning: Inconsistent parameter values for distribution with name \"max_depth\"! This might be a configuration mistake. Optuna allows to call the same distribution with the same name more than once in a trial. When the parameter values are inconsistent optuna only uses the values of the first call and ignores all following. Using these values: {'log': False, 'step': 1, 'low': 10, 'high': 50}\n",
      "  warnings.warn(\n",
      "[I 2023-11-29 15:26:29,111] Trial 31 finished with value: 0.3931034482758621 and parameters: {'n_estimators': 831, 'max_depth': 35}. Best is trial 2 with value: 0.4.\n"
     ]
    },
    {
     "name": "stdout",
     "output_type": "stream",
     "text": [
      "0.3931034482758621\n",
      "[LightGBM] [Info] Number of positive: 1124, number of negative: 2646\n",
      "[LightGBM] [Info] Auto-choosing row-wise multi-threading, the overhead of testing was 0.000072 seconds.\n",
      "You can set `force_row_wise=true` to remove the overhead.\n",
      "And if memory is not enough, you can set `force_col_wise=true`.\n",
      "[LightGBM] [Info] Total Bins 40\n",
      "[LightGBM] [Info] Number of data points in the train set: 3770, number of used features: 6\n",
      "[LightGBM] [Info] [binary:BoostFromScore]: pavg=0.298143 -> initscore=-0.856155\n",
      "[LightGBM] [Info] Start training from score -0.856155\n"
     ]
    },
    {
     "name": "stderr",
     "output_type": "stream",
     "text": [
      "c:\\Users\\enric\\anaconda3\\envs\\gcp_demo2\\Lib\\site-packages\\optuna\\trial\\_trial.py:677: RuntimeWarning: Inconsistent parameter values for distribution with name \"max_depth\"! This might be a configuration mistake. Optuna allows to call the same distribution with the same name more than once in a trial. When the parameter values are inconsistent optuna only uses the values of the first call and ignores all following. Using these values: {'log': False, 'step': 1, 'low': 10, 'high': 50}\n",
      "  warnings.warn(\n",
      "[I 2023-11-29 15:26:29,623] Trial 32 finished with value: 0.3931034482758621 and parameters: {'n_estimators': 826, 'max_depth': 35}. Best is trial 2 with value: 0.4.\n"
     ]
    },
    {
     "name": "stdout",
     "output_type": "stream",
     "text": [
      "0.3931034482758621\n",
      "[LightGBM] [Info] Number of positive: 1124, number of negative: 2646\n",
      "[LightGBM] [Info] Auto-choosing row-wise multi-threading, the overhead of testing was 0.000064 seconds.\n",
      "You can set `force_row_wise=true` to remove the overhead.\n",
      "And if memory is not enough, you can set `force_col_wise=true`.\n",
      "[LightGBM] [Info] Total Bins 40\n",
      "[LightGBM] [Info] Number of data points in the train set: 3770, number of used features: 6\n",
      "[LightGBM] [Info] [binary:BoostFromScore]: pavg=0.298143 -> initscore=-0.856155\n",
      "[LightGBM] [Info] Start training from score -0.856155\n"
     ]
    },
    {
     "name": "stderr",
     "output_type": "stream",
     "text": [
      "c:\\Users\\enric\\anaconda3\\envs\\gcp_demo2\\Lib\\site-packages\\optuna\\trial\\_trial.py:677: RuntimeWarning: Inconsistent parameter values for distribution with name \"max_depth\"! This might be a configuration mistake. Optuna allows to call the same distribution with the same name more than once in a trial. When the parameter values are inconsistent optuna only uses the values of the first call and ignores all following. Using these values: {'log': False, 'step': 1, 'low': 10, 'high': 50}\n",
      "  warnings.warn(\n",
      "[I 2023-11-29 15:26:30,070] Trial 33 finished with value: 0.39655172413793105 and parameters: {'n_estimators': 737, 'max_depth': 30}. Best is trial 2 with value: 0.4.\n"
     ]
    },
    {
     "name": "stdout",
     "output_type": "stream",
     "text": [
      "0.39655172413793105\n",
      "[LightGBM] [Info] Number of positive: 1124, number of negative: 2646\n",
      "[LightGBM] [Info] Auto-choosing row-wise multi-threading, the overhead of testing was 0.000105 seconds.\n",
      "You can set `force_row_wise=true` to remove the overhead.\n",
      "And if memory is not enough, you can set `force_col_wise=true`.\n",
      "[LightGBM] [Info] Total Bins 40\n",
      "[LightGBM] [Info] Number of data points in the train set: 3770, number of used features: 6\n",
      "[LightGBM] [Info] [binary:BoostFromScore]: pavg=0.298143 -> initscore=-0.856155\n",
      "[LightGBM] [Info] Start training from score -0.856155\n"
     ]
    },
    {
     "name": "stderr",
     "output_type": "stream",
     "text": [
      "c:\\Users\\enric\\anaconda3\\envs\\gcp_demo2\\Lib\\site-packages\\optuna\\trial\\_trial.py:677: RuntimeWarning: Inconsistent parameter values for distribution with name \"max_depth\"! This might be a configuration mistake. Optuna allows to call the same distribution with the same name more than once in a trial. When the parameter values are inconsistent optuna only uses the values of the first call and ignores all following. Using these values: {'log': False, 'step': 1, 'low': 10, 'high': 50}\n",
      "  warnings.warn(\n",
      "[I 2023-11-29 15:26:30,440] Trial 34 finished with value: 0.3758620689655172 and parameters: {'n_estimators': 734, 'max_depth': 23}. Best is trial 2 with value: 0.4.\n"
     ]
    },
    {
     "name": "stdout",
     "output_type": "stream",
     "text": [
      "0.3758620689655172\n",
      "[LightGBM] [Info] Number of positive: 1124, number of negative: 2646\n",
      "[LightGBM] [Info] Auto-choosing row-wise multi-threading, the overhead of testing was 0.000067 seconds.\n",
      "You can set `force_row_wise=true` to remove the overhead.\n",
      "And if memory is not enough, you can set `force_col_wise=true`.\n",
      "[LightGBM] [Info] Total Bins 40\n",
      "[LightGBM] [Info] Number of data points in the train set: 3770, number of used features: 6\n",
      "[LightGBM] [Info] [binary:BoostFromScore]: pavg=0.298143 -> initscore=-0.856155\n",
      "[LightGBM] [Info] Start training from score -0.856155\n"
     ]
    },
    {
     "name": "stderr",
     "output_type": "stream",
     "text": [
      "c:\\Users\\enric\\anaconda3\\envs\\gcp_demo2\\Lib\\site-packages\\optuna\\trial\\_trial.py:677: RuntimeWarning: Inconsistent parameter values for distribution with name \"max_depth\"! This might be a configuration mistake. Optuna allows to call the same distribution with the same name more than once in a trial. When the parameter values are inconsistent optuna only uses the values of the first call and ignores all following. Using these values: {'log': False, 'step': 1, 'low': 10, 'high': 50}\n",
      "  warnings.warn(\n",
      "[I 2023-11-29 15:26:30,777] Trial 35 finished with value: 0.3586206896551724 and parameters: {'n_estimators': 539, 'max_depth': 29}. Best is trial 2 with value: 0.4.\n",
      "c:\\Users\\enric\\anaconda3\\envs\\gcp_demo2\\Lib\\site-packages\\optuna\\trial\\_trial.py:677: RuntimeWarning: Inconsistent parameter values for distribution with name \"max_depth\"! This might be a configuration mistake. Optuna allows to call the same distribution with the same name more than once in a trial. When the parameter values are inconsistent optuna only uses the values of the first call and ignores all following. Using these values: {'log': False, 'step': 1, 'low': 10, 'high': 50}\n",
      "  warnings.warn(\n"
     ]
    },
    {
     "name": "stdout",
     "output_type": "stream",
     "text": [
      "0.3586206896551724\n",
      "[LightGBM] [Info] Number of positive: 1124, number of negative: 2646\n",
      "[LightGBM] [Info] Auto-choosing row-wise multi-threading, the overhead of testing was 0.000053 seconds.\n",
      "You can set `force_row_wise=true` to remove the overhead.\n",
      "And if memory is not enough, you can set `force_col_wise=true`.\n",
      "[LightGBM] [Info] Total Bins 40\n",
      "[LightGBM] [Info] Number of data points in the train set: 3770, number of used features: 6\n",
      "[LightGBM] [Info] [binary:BoostFromScore]: pavg=0.298143 -> initscore=-0.856155\n",
      "[LightGBM] [Info] Start training from score -0.856155\n"
     ]
    },
    {
     "name": "stderr",
     "output_type": "stream",
     "text": [
      "[I 2023-11-29 15:26:31,018] Trial 36 finished with value: 0.3724137931034483 and parameters: {'n_estimators': 438, 'max_depth': 25}. Best is trial 2 with value: 0.4.\n"
     ]
    },
    {
     "name": "stdout",
     "output_type": "stream",
     "text": [
      "0.3724137931034483\n",
      "[LightGBM] [Info] Number of positive: 1124, number of negative: 2646\n",
      "[LightGBM] [Info] Auto-choosing row-wise multi-threading, the overhead of testing was 0.000079 seconds.\n",
      "You can set `force_row_wise=true` to remove the overhead.\n",
      "And if memory is not enough, you can set `force_col_wise=true`.\n",
      "[LightGBM] [Info] Total Bins 40\n",
      "[LightGBM] [Info] Number of data points in the train set: 3770, number of used features: 6\n",
      "[LightGBM] [Info] [binary:BoostFromScore]: pavg=0.298143 -> initscore=-0.856155\n",
      "[LightGBM] [Info] Start training from score -0.856155\n"
     ]
    },
    {
     "name": "stderr",
     "output_type": "stream",
     "text": [
      "c:\\Users\\enric\\anaconda3\\envs\\gcp_demo2\\Lib\\site-packages\\optuna\\trial\\_trial.py:677: RuntimeWarning: Inconsistent parameter values for distribution with name \"max_depth\"! This might be a configuration mistake. Optuna allows to call the same distribution with the same name more than once in a trial. When the parameter values are inconsistent optuna only uses the values of the first call and ignores all following. Using these values: {'log': False, 'step': 1, 'low': 10, 'high': 50}\n",
      "  warnings.warn(\n",
      "[I 2023-11-29 15:26:31,390] Trial 37 finished with value: 0.3758620689655172 and parameters: {'n_estimators': 684, 'max_depth': 20}. Best is trial 2 with value: 0.4.\n",
      "c:\\Users\\enric\\anaconda3\\envs\\gcp_demo2\\Lib\\site-packages\\optuna\\trial\\_trial.py:677: RuntimeWarning: Inconsistent parameter values for distribution with name \"max_depth\"! This might be a configuration mistake. Optuna allows to call the same distribution with the same name more than once in a trial. When the parameter values are inconsistent optuna only uses the values of the first call and ignores all following. Using these values: {'log': False, 'step': 1, 'low': 10, 'high': 50}\n",
      "  warnings.warn(\n",
      "[I 2023-11-29 15:26:31,502] Trial 38 finished with value: 0.30689655172413793 and parameters: {'n_estimators': 143, 'max_depth': 31}. Best is trial 2 with value: 0.4.\n"
     ]
    },
    {
     "name": "stdout",
     "output_type": "stream",
     "text": [
      "0.3758620689655172\n",
      "[LightGBM] [Warning] Accuracy may be bad since you didn't explicitly set num_leaves OR 2^max_depth > num_leaves. (num_leaves=31).\n",
      "[LightGBM] [Warning] Accuracy may be bad since you didn't explicitly set num_leaves OR 2^max_depth > num_leaves. (num_leaves=31).\n",
      "[LightGBM] [Info] Number of positive: 1124, number of negative: 2646\n",
      "[LightGBM] [Info] Auto-choosing row-wise multi-threading, the overhead of testing was 0.000062 seconds.\n",
      "You can set `force_row_wise=true` to remove the overhead.\n",
      "And if memory is not enough, you can set `force_col_wise=true`.\n",
      "[LightGBM] [Info] Total Bins 40\n",
      "[LightGBM] [Info] Number of data points in the train set: 3770, number of used features: 6\n",
      "[LightGBM] [Info] [binary:BoostFromScore]: pavg=0.298143 -> initscore=-0.856155\n",
      "[LightGBM] [Info] Start training from score -0.856155\n",
      "[LightGBM] [Warning] Accuracy may be bad since you didn't explicitly set num_leaves OR 2^max_depth > num_leaves. (num_leaves=31).\n",
      "0.30689655172413793\n",
      "[LightGBM] [Info] Number of positive: 1124, number of negative: 2646\n",
      "[LightGBM] [Info] Auto-choosing row-wise multi-threading, the overhead of testing was 0.000074 seconds.\n",
      "You can set `force_row_wise=true` to remove the overhead.\n",
      "And if memory is not enough, you can set `force_col_wise=true`.\n",
      "[LightGBM] [Info] Total Bins 40\n",
      "[LightGBM] [Info] Number of data points in the train set: 3770, number of used features: 6\n",
      "[LightGBM] [Info] [binary:BoostFromScore]: pavg=0.298143 -> initscore=-0.856155\n",
      "[LightGBM] [Info] Start training from score -0.856155\n"
     ]
    },
    {
     "name": "stderr",
     "output_type": "stream",
     "text": [
      "c:\\Users\\enric\\anaconda3\\envs\\gcp_demo2\\Lib\\site-packages\\optuna\\trial\\_trial.py:677: RuntimeWarning: Inconsistent parameter values for distribution with name \"max_depth\"! This might be a configuration mistake. Optuna allows to call the same distribution with the same name more than once in a trial. When the parameter values are inconsistent optuna only uses the values of the first call and ignores all following. Using these values: {'log': False, 'step': 1, 'low': 10, 'high': 50}\n",
      "  warnings.warn(\n",
      "[I 2023-11-29 15:26:32,277] Trial 39 finished with value: 0.38620689655172413 and parameters: {'n_estimators': 933, 'max_depth': 40}. Best is trial 2 with value: 0.4.\n"
     ]
    },
    {
     "name": "stdout",
     "output_type": "stream",
     "text": [
      "0.38620689655172413\n",
      "[LightGBM] [Info] Number of positive: 1124, number of negative: 2646\n",
      "[LightGBM] [Info] Auto-choosing row-wise multi-threading, the overhead of testing was 0.000080 seconds.\n",
      "You can set `force_row_wise=true` to remove the overhead.\n",
      "And if memory is not enough, you can set `force_col_wise=true`.\n",
      "[LightGBM] [Info] Total Bins 40\n",
      "[LightGBM] [Info] Number of data points in the train set: 3770, number of used features: 6\n",
      "[LightGBM] [Info] [binary:BoostFromScore]: pavg=0.298143 -> initscore=-0.856155\n",
      "[LightGBM] [Info] Start training from score -0.856155\n"
     ]
    },
    {
     "name": "stderr",
     "output_type": "stream",
     "text": [
      "c:\\Users\\enric\\anaconda3\\envs\\gcp_demo2\\Lib\\site-packages\\optuna\\trial\\_trial.py:677: RuntimeWarning: Inconsistent parameter values for distribution with name \"max_depth\"! This might be a configuration mistake. Optuna allows to call the same distribution with the same name more than once in a trial. When the parameter values are inconsistent optuna only uses the values of the first call and ignores all following. Using these values: {'log': False, 'step': 1, 'low': 10, 'high': 50}\n",
      "  warnings.warn(\n",
      "[I 2023-11-29 15:26:32,586] Trial 40 finished with value: 0.3689655172413793 and parameters: {'n_estimators': 767, 'max_depth': 16}. Best is trial 2 with value: 0.4.\n"
     ]
    },
    {
     "name": "stdout",
     "output_type": "stream",
     "text": [
      "0.3689655172413793\n",
      "[LightGBM] [Info] Number of positive: 1124, number of negative: 2646\n",
      "[LightGBM] [Info] Auto-choosing row-wise multi-threading, the overhead of testing was 0.000081 seconds.\n",
      "You can set `force_row_wise=true` to remove the overhead.\n",
      "And if memory is not enough, you can set `force_col_wise=true`.\n",
      "[LightGBM] [Info] Total Bins 40\n",
      "[LightGBM] [Info] Number of data points in the train set: 3770, number of used features: 6\n",
      "[LightGBM] [Info] [binary:BoostFromScore]: pavg=0.298143 -> initscore=-0.856155\n",
      "[LightGBM] [Info] Start training from score -0.856155\n"
     ]
    },
    {
     "name": "stderr",
     "output_type": "stream",
     "text": [
      "c:\\Users\\enric\\anaconda3\\envs\\gcp_demo2\\Lib\\site-packages\\optuna\\trial\\_trial.py:677: RuntimeWarning: Inconsistent parameter values for distribution with name \"max_depth\"! This might be a configuration mistake. Optuna allows to call the same distribution with the same name more than once in a trial. When the parameter values are inconsistent optuna only uses the values of the first call and ignores all following. Using these values: {'log': False, 'step': 1, 'low': 10, 'high': 50}\n",
      "  warnings.warn(\n",
      "[I 2023-11-29 15:26:33,172] Trial 41 finished with value: 0.4 and parameters: {'n_estimators': 814, 'max_depth': 34}. Best is trial 2 with value: 0.4.\n"
     ]
    },
    {
     "name": "stdout",
     "output_type": "stream",
     "text": [
      "0.4\n",
      "[LightGBM] [Info] Number of positive: 1124, number of negative: 2646\n",
      "[LightGBM] [Info] Auto-choosing row-wise multi-threading, the overhead of testing was 0.000053 seconds.\n",
      "You can set `force_row_wise=true` to remove the overhead.\n",
      "And if memory is not enough, you can set `force_col_wise=true`.\n",
      "[LightGBM] [Info] Total Bins 40\n",
      "[LightGBM] [Info] Number of data points in the train set: 3770, number of used features: 6\n",
      "[LightGBM] [Info] [binary:BoostFromScore]: pavg=0.298143 -> initscore=-0.856155\n",
      "[LightGBM] [Info] Start training from score -0.856155\n"
     ]
    },
    {
     "name": "stderr",
     "output_type": "stream",
     "text": [
      "c:\\Users\\enric\\anaconda3\\envs\\gcp_demo2\\Lib\\site-packages\\optuna\\trial\\_trial.py:677: RuntimeWarning: Inconsistent parameter values for distribution with name \"max_depth\"! This might be a configuration mistake. Optuna allows to call the same distribution with the same name more than once in a trial. When the parameter values are inconsistent optuna only uses the values of the first call and ignores all following. Using these values: {'log': False, 'step': 1, 'low': 10, 'high': 50}\n",
      "  warnings.warn(\n",
      "[I 2023-11-29 15:26:34,185] Trial 42 finished with value: 0.38620689655172413 and parameters: {'n_estimators': 880, 'max_depth': 36}. Best is trial 2 with value: 0.4.\n"
     ]
    },
    {
     "name": "stdout",
     "output_type": "stream",
     "text": [
      "0.38620689655172413\n",
      "[LightGBM] [Info] Number of positive: 1124, number of negative: 2646\n",
      "[LightGBM] [Info] Auto-choosing row-wise multi-threading, the overhead of testing was 0.000103 seconds.\n",
      "You can set `force_row_wise=true` to remove the overhead.\n",
      "And if memory is not enough, you can set `force_col_wise=true`.\n",
      "[LightGBM] [Info] Total Bins 40\n",
      "[LightGBM] [Info] Number of data points in the train set: 3770, number of used features: 6\n",
      "[LightGBM] [Info] [binary:BoostFromScore]: pavg=0.298143 -> initscore=-0.856155\n",
      "[LightGBM] [Info] Start training from score -0.856155\n"
     ]
    },
    {
     "name": "stderr",
     "output_type": "stream",
     "text": [
      "c:\\Users\\enric\\anaconda3\\envs\\gcp_demo2\\Lib\\site-packages\\optuna\\trial\\_trial.py:677: RuntimeWarning: Inconsistent parameter values for distribution with name \"max_depth\"! This might be a configuration mistake. Optuna allows to call the same distribution with the same name more than once in a trial. When the parameter values are inconsistent optuna only uses the values of the first call and ignores all following. Using these values: {'log': False, 'step': 1, 'low': 10, 'high': 50}\n",
      "  warnings.warn(\n",
      "[I 2023-11-29 15:26:34,659] Trial 43 finished with value: 0.38620689655172413 and parameters: {'n_estimators': 810, 'max_depth': 28}. Best is trial 2 with value: 0.4.\n"
     ]
    },
    {
     "name": "stdout",
     "output_type": "stream",
     "text": [
      "0.38620689655172413\n",
      "[LightGBM] [Info] Number of positive: 1124, number of negative: 2646\n",
      "[LightGBM] [Info] Auto-choosing row-wise multi-threading, the overhead of testing was 0.000069 seconds.\n",
      "You can set `force_row_wise=true` to remove the overhead.\n",
      "And if memory is not enough, you can set `force_col_wise=true`.\n",
      "[LightGBM] [Info] Total Bins 40\n",
      "[LightGBM] [Info] Number of data points in the train set: 3770, number of used features: 6\n",
      "[LightGBM] [Info] [binary:BoostFromScore]: pavg=0.298143 -> initscore=-0.856155\n",
      "[LightGBM] [Info] Start training from score -0.856155\n"
     ]
    },
    {
     "name": "stderr",
     "output_type": "stream",
     "text": [
      "c:\\Users\\enric\\anaconda3\\envs\\gcp_demo2\\Lib\\site-packages\\optuna\\trial\\_trial.py:677: RuntimeWarning: Inconsistent parameter values for distribution with name \"max_depth\"! This might be a configuration mistake. Optuna allows to call the same distribution with the same name more than once in a trial. When the parameter values are inconsistent optuna only uses the values of the first call and ignores all following. Using these values: {'log': False, 'step': 1, 'low': 10, 'high': 50}\n",
      "  warnings.warn(\n",
      "[I 2023-11-29 15:26:35,124] Trial 44 finished with value: 0.3793103448275862 and parameters: {'n_estimators': 725, 'max_depth': 33}. Best is trial 2 with value: 0.4.\n"
     ]
    },
    {
     "name": "stdout",
     "output_type": "stream",
     "text": [
      "0.3793103448275862\n",
      "[LightGBM] [Info] Number of positive: 1124, number of negative: 2646\n",
      "[LightGBM] [Info] Auto-choosing row-wise multi-threading, the overhead of testing was 0.000056 seconds.\n",
      "You can set `force_row_wise=true` to remove the overhead.\n",
      "And if memory is not enough, you can set `force_col_wise=true`.\n",
      "[LightGBM] [Info] Total Bins 40\n",
      "[LightGBM] [Info] Number of data points in the train set: 3770, number of used features: 6\n",
      "[LightGBM] [Info] [binary:BoostFromScore]: pavg=0.298143 -> initscore=-0.856155\n",
      "[LightGBM] [Info] Start training from score -0.856155\n"
     ]
    },
    {
     "name": "stderr",
     "output_type": "stream",
     "text": [
      "c:\\Users\\enric\\anaconda3\\envs\\gcp_demo2\\Lib\\site-packages\\optuna\\trial\\_trial.py:677: RuntimeWarning: Inconsistent parameter values for distribution with name \"max_depth\"! This might be a configuration mistake. Optuna allows to call the same distribution with the same name more than once in a trial. When the parameter values are inconsistent optuna only uses the values of the first call and ignores all following. Using these values: {'log': False, 'step': 1, 'low': 10, 'high': 50}\n",
      "  warnings.warn(\n",
      "[I 2023-11-29 15:26:35,616] Trial 45 finished with value: 0.38275862068965516 and parameters: {'n_estimators': 651, 'max_depth': 38}. Best is trial 2 with value: 0.4.\n"
     ]
    },
    {
     "name": "stdout",
     "output_type": "stream",
     "text": [
      "0.38275862068965516\n",
      "[LightGBM] [Info] Number of positive: 1124, number of negative: 2646\n",
      "[LightGBM] [Info] Auto-choosing row-wise multi-threading, the overhead of testing was 0.000049 seconds.\n",
      "You can set `force_row_wise=true` to remove the overhead.\n",
      "And if memory is not enough, you can set `force_col_wise=true`.\n",
      "[LightGBM] [Info] Total Bins 40\n",
      "[LightGBM] [Info] Number of data points in the train set: 3770, number of used features: 6\n",
      "[LightGBM] [Info] [binary:BoostFromScore]: pavg=0.298143 -> initscore=-0.856155\n",
      "[LightGBM] [Info] Start training from score -0.856155\n"
     ]
    },
    {
     "name": "stderr",
     "output_type": "stream",
     "text": [
      "c:\\Users\\enric\\anaconda3\\envs\\gcp_demo2\\Lib\\site-packages\\optuna\\trial\\_trial.py:677: RuntimeWarning: Inconsistent parameter values for distribution with name \"max_depth\"! This might be a configuration mistake. Optuna allows to call the same distribution with the same name more than once in a trial. When the parameter values are inconsistent optuna only uses the values of the first call and ignores all following. Using these values: {'log': False, 'step': 1, 'low': 10, 'high': 50}\n",
      "  warnings.warn(\n",
      "[I 2023-11-29 15:26:36,077] Trial 46 finished with value: 0.3896551724137931 and parameters: {'n_estimators': 873, 'max_depth': 26}. Best is trial 2 with value: 0.4.\n",
      "c:\\Users\\enric\\anaconda3\\envs\\gcp_demo2\\Lib\\site-packages\\optuna\\trial\\_trial.py:677: RuntimeWarning: Inconsistent parameter values for distribution with name \"max_depth\"! This might be a configuration mistake. Optuna allows to call the same distribution with the same name more than once in a trial. When the parameter values are inconsistent optuna only uses the values of the first call and ignores all following. Using these values: {'log': False, 'step': 1, 'low': 10, 'high': 50}\n",
      "  warnings.warn(\n",
      "[I 2023-11-29 15:26:36,257] Trial 47 finished with value: 0.3724137931034483 and parameters: {'n_estimators': 225, 'max_depth': 34}. Best is trial 2 with value: 0.4.\n"
     ]
    },
    {
     "name": "stdout",
     "output_type": "stream",
     "text": [
      "0.3896551724137931\n",
      "[LightGBM] [Info] Number of positive: 1124, number of negative: 2646\n",
      "[LightGBM] [Info] Auto-choosing row-wise multi-threading, the overhead of testing was 0.000087 seconds.\n",
      "You can set `force_row_wise=true` to remove the overhead.\n",
      "And if memory is not enough, you can set `force_col_wise=true`.\n",
      "[LightGBM] [Info] Total Bins 40\n",
      "[LightGBM] [Info] Number of data points in the train set: 3770, number of used features: 6\n",
      "[LightGBM] [Info] [binary:BoostFromScore]: pavg=0.298143 -> initscore=-0.856155\n",
      "[LightGBM] [Info] Start training from score -0.856155\n",
      "0.3724137931034483\n"
     ]
    },
    {
     "name": "stderr",
     "output_type": "stream",
     "text": [
      "c:\\Users\\enric\\anaconda3\\envs\\gcp_demo2\\Lib\\site-packages\\optuna\\trial\\_trial.py:677: RuntimeWarning: Inconsistent parameter values for distribution with name \"max_depth\"! This might be a configuration mistake. Optuna allows to call the same distribution with the same name more than once in a trial. When the parameter values are inconsistent optuna only uses the values of the first call and ignores all following. Using these values: {'log': False, 'step': 1, 'low': 10, 'high': 50}\n",
      "  warnings.warn(\n"
     ]
    },
    {
     "name": "stdout",
     "output_type": "stream",
     "text": [
      "[LightGBM] [Info] Number of positive: 1124, number of negative: 2646\n",
      "[LightGBM] [Info] Auto-choosing col-wise multi-threading, the overhead of testing was 0.001959 seconds.\n",
      "You can set `force_col_wise=true` to remove the overhead.\n",
      "[LightGBM] [Info] Total Bins 40\n",
      "[LightGBM] [Info] Number of data points in the train set: 3770, number of used features: 6\n",
      "[LightGBM] [Info] [binary:BoostFromScore]: pavg=0.298143 -> initscore=-0.856155\n",
      "[LightGBM] [Info] Start training from score -0.856155\n"
     ]
    },
    {
     "name": "stderr",
     "output_type": "stream",
     "text": [
      "[I 2023-11-29 15:26:36,718] Trial 48 finished with value: 0.3758620689655172 and parameters: {'n_estimators': 594, 'max_depth': 30}. Best is trial 2 with value: 0.4.\n"
     ]
    },
    {
     "name": "stdout",
     "output_type": "stream",
     "text": [
      "0.3758620689655172\n",
      "[LightGBM] [Info] Number of positive: 1124, number of negative: 2646\n",
      "[LightGBM] [Info] Auto-choosing row-wise multi-threading, the overhead of testing was 0.000185 seconds.\n",
      "You can set `force_row_wise=true` to remove the overhead.\n",
      "And if memory is not enough, you can set `force_col_wise=true`.\n",
      "[LightGBM] [Info] Total Bins 40\n",
      "[LightGBM] [Info] Number of data points in the train set: 3770, number of used features: 6\n",
      "[LightGBM] [Info] [binary:BoostFromScore]: pavg=0.298143 -> initscore=-0.856155\n",
      "[LightGBM] [Info] Start training from score -0.856155\n"
     ]
    },
    {
     "name": "stderr",
     "output_type": "stream",
     "text": [
      "c:\\Users\\enric\\anaconda3\\envs\\gcp_demo2\\Lib\\site-packages\\optuna\\trial\\_trial.py:677: RuntimeWarning: Inconsistent parameter values for distribution with name \"max_depth\"! This might be a configuration mistake. Optuna allows to call the same distribution with the same name more than once in a trial. When the parameter values are inconsistent optuna only uses the values of the first call and ignores all following. Using these values: {'log': False, 'step': 1, 'low': 10, 'high': 50}\n",
      "  warnings.warn(\n",
      "[I 2023-11-29 15:26:37,401] Trial 49 finished with value: 0.3758620689655172 and parameters: {'n_estimators': 957, 'max_depth': 37}. Best is trial 2 with value: 0.4.\n"
     ]
    },
    {
     "name": "stdout",
     "output_type": "stream",
     "text": [
      "0.3758620689655172\n",
      "[LightGBM] [Info] Number of positive: 1124, number of negative: 2646\n",
      "[LightGBM] [Info] Auto-choosing row-wise multi-threading, the overhead of testing was 0.000112 seconds.\n",
      "You can set `force_row_wise=true` to remove the overhead.\n",
      "And if memory is not enough, you can set `force_col_wise=true`.\n",
      "[LightGBM] [Info] Total Bins 40\n",
      "[LightGBM] [Info] Number of data points in the train set: 3770, number of used features: 6\n",
      "[LightGBM] [Info] [binary:BoostFromScore]: pavg=0.298143 -> initscore=-0.856155\n",
      "[LightGBM] [Info] Start training from score -0.856155\n"
     ]
    },
    {
     "name": "stderr",
     "output_type": "stream",
     "text": [
      "c:\\Users\\enric\\anaconda3\\envs\\gcp_demo2\\Lib\\site-packages\\optuna\\trial\\_trial.py:677: RuntimeWarning: Inconsistent parameter values for distribution with name \"max_depth\"! This might be a configuration mistake. Optuna allows to call the same distribution with the same name more than once in a trial. When the parameter values are inconsistent optuna only uses the values of the first call and ignores all following. Using these values: {'log': False, 'step': 1, 'low': 10, 'high': 50}\n",
      "  warnings.warn(\n",
      "[I 2023-11-29 15:26:37,807] Trial 50 finished with value: 0.3724137931034483 and parameters: {'n_estimators': 456, 'max_depth': 44}. Best is trial 2 with value: 0.4.\n"
     ]
    },
    {
     "name": "stdout",
     "output_type": "stream",
     "text": [
      "0.3724137931034483\n",
      "[LightGBM] [Info] Number of positive: 1124, number of negative: 2646\n",
      "[LightGBM] [Info] Auto-choosing row-wise multi-threading, the overhead of testing was 0.000055 seconds.\n",
      "You can set `force_row_wise=true` to remove the overhead.\n",
      "And if memory is not enough, you can set `force_col_wise=true`.\n",
      "[LightGBM] [Info] Total Bins 40\n",
      "[LightGBM] [Info] Number of data points in the train set: 3770, number of used features: 6\n",
      "[LightGBM] [Info] [binary:BoostFromScore]: pavg=0.298143 -> initscore=-0.856155\n",
      "[LightGBM] [Info] Start training from score -0.856155\n"
     ]
    },
    {
     "name": "stderr",
     "output_type": "stream",
     "text": [
      "c:\\Users\\enric\\anaconda3\\envs\\gcp_demo2\\Lib\\site-packages\\optuna\\trial\\_trial.py:677: RuntimeWarning: Inconsistent parameter values for distribution with name \"max_depth\"! This might be a configuration mistake. Optuna allows to call the same distribution with the same name more than once in a trial. When the parameter values are inconsistent optuna only uses the values of the first call and ignores all following. Using these values: {'log': False, 'step': 1, 'low': 10, 'high': 50}\n",
      "  warnings.warn(\n",
      "[I 2023-11-29 15:26:38,324] Trial 51 finished with value: 0.3931034482758621 and parameters: {'n_estimators': 846, 'max_depth': 32}. Best is trial 2 with value: 0.4.\n"
     ]
    },
    {
     "name": "stdout",
     "output_type": "stream",
     "text": [
      "0.3931034482758621\n",
      "[LightGBM] [Info] Number of positive: 1124, number of negative: 2646\n",
      "[LightGBM] [Info] Auto-choosing row-wise multi-threading, the overhead of testing was 0.000070 seconds.\n",
      "You can set `force_row_wise=true` to remove the overhead.\n",
      "And if memory is not enough, you can set `force_col_wise=true`.\n",
      "[LightGBM] [Info] Total Bins 40\n",
      "[LightGBM] [Info] Number of data points in the train set: 3770, number of used features: 6\n",
      "[LightGBM] [Info] [binary:BoostFromScore]: pavg=0.298143 -> initscore=-0.856155\n",
      "[LightGBM] [Info] Start training from score -0.856155\n"
     ]
    },
    {
     "name": "stderr",
     "output_type": "stream",
     "text": [
      "c:\\Users\\enric\\anaconda3\\envs\\gcp_demo2\\Lib\\site-packages\\optuna\\trial\\_trial.py:677: RuntimeWarning: Inconsistent parameter values for distribution with name \"max_depth\"! This might be a configuration mistake. Optuna allows to call the same distribution with the same name more than once in a trial. When the parameter values are inconsistent optuna only uses the values of the first call and ignores all following. Using these values: {'log': False, 'step': 1, 'low': 10, 'high': 50}\n",
      "  warnings.warn(\n",
      "[I 2023-11-29 15:26:38,880] Trial 52 finished with value: 0.3793103448275862 and parameters: {'n_estimators': 746, 'max_depth': 29}. Best is trial 2 with value: 0.4.\n"
     ]
    },
    {
     "name": "stdout",
     "output_type": "stream",
     "text": [
      "0.3793103448275862\n",
      "[LightGBM] [Info] Number of positive: 1124, number of negative: 2646\n",
      "[LightGBM] [Info] Auto-choosing row-wise multi-threading, the overhead of testing was 0.000079 seconds.\n",
      "You can set `force_row_wise=true` to remove the overhead.\n",
      "And if memory is not enough, you can set `force_col_wise=true`.\n",
      "[LightGBM] [Info] Total Bins 40\n",
      "[LightGBM] [Info] Number of data points in the train set: 3770, number of used features: 6\n",
      "[LightGBM] [Info] [binary:BoostFromScore]: pavg=0.298143 -> initscore=-0.856155\n",
      "[LightGBM] [Info] Start training from score -0.856155\n"
     ]
    },
    {
     "name": "stderr",
     "output_type": "stream",
     "text": [
      "c:\\Users\\enric\\anaconda3\\envs\\gcp_demo2\\Lib\\site-packages\\optuna\\trial\\_trial.py:677: RuntimeWarning: Inconsistent parameter values for distribution with name \"max_depth\"! This might be a configuration mistake. Optuna allows to call the same distribution with the same name more than once in a trial. When the parameter values are inconsistent optuna only uses the values of the first call and ignores all following. Using these values: {'log': False, 'step': 1, 'low': 10, 'high': 50}\n",
      "  warnings.warn(\n",
      "[I 2023-11-29 15:26:39,360] Trial 53 finished with value: 0.3724137931034483 and parameters: {'n_estimators': 683, 'max_depth': 37}. Best is trial 2 with value: 0.4.\n"
     ]
    },
    {
     "name": "stdout",
     "output_type": "stream",
     "text": [
      "0.3724137931034483\n",
      "[LightGBM] [Warning] Accuracy may be bad since you didn't explicitly set num_leaves OR 2^max_depth > num_leaves. (num_leaves=31).\n",
      "[LightGBM] [Warning] Accuracy may be bad since you didn't explicitly set num_leaves OR 2^max_depth > num_leaves. (num_leaves=31).\n",
      "[LightGBM] [Info] Number of positive: 1124, number of negative: 2646\n",
      "[LightGBM] [Info] Auto-choosing row-wise multi-threading, the overhead of testing was 0.000053 seconds.\n",
      "You can set `force_row_wise=true` to remove the overhead.\n",
      "And if memory is not enough, you can set `force_col_wise=true`.\n",
      "[LightGBM] [Info] Total Bins 40\n",
      "[LightGBM] [Info] Number of data points in the train set: 3770, number of used features: 6\n",
      "[LightGBM] [Info] [binary:BoostFromScore]: pavg=0.298143 -> initscore=-0.856155\n",
      "[LightGBM] [Info] Start training from score -0.856155\n"
     ]
    },
    {
     "name": "stderr",
     "output_type": "stream",
     "text": [
      "c:\\Users\\enric\\anaconda3\\envs\\gcp_demo2\\Lib\\site-packages\\optuna\\trial\\_trial.py:677: RuntimeWarning: Inconsistent parameter values for distribution with name \"max_depth\"! This might be a configuration mistake. Optuna allows to call the same distribution with the same name more than once in a trial. When the parameter values are inconsistent optuna only uses the values of the first call and ignores all following. Using these values: {'log': False, 'step': 1, 'low': 10, 'high': 50}\n",
      "  warnings.warn(\n",
      "[I 2023-11-29 15:26:39,999] Trial 54 finished with value: 0.38620689655172413 and parameters: {'n_estimators': 786, 'max_depth': 31}. Best is trial 2 with value: 0.4.\n"
     ]
    },
    {
     "name": "stdout",
     "output_type": "stream",
     "text": [
      "[LightGBM] [Warning] Accuracy may be bad since you didn't explicitly set num_leaves OR 2^max_depth > num_leaves. (num_leaves=31).\n",
      "0.38620689655172413\n",
      "[LightGBM] [Info] Number of positive: 1124, number of negative: 2646\n",
      "[LightGBM] [Info] Auto-choosing row-wise multi-threading, the overhead of testing was 0.000065 seconds.\n",
      "You can set `force_row_wise=true` to remove the overhead.\n",
      "And if memory is not enough, you can set `force_col_wise=true`.\n",
      "[LightGBM] [Info] Total Bins 40\n",
      "[LightGBM] [Info] Number of data points in the train set: 3770, number of used features: 6\n",
      "[LightGBM] [Info] [binary:BoostFromScore]: pavg=0.298143 -> initscore=-0.856155\n",
      "[LightGBM] [Info] Start training from score -0.856155\n"
     ]
    },
    {
     "name": "stderr",
     "output_type": "stream",
     "text": [
      "c:\\Users\\enric\\anaconda3\\envs\\gcp_demo2\\Lib\\site-packages\\optuna\\trial\\_trial.py:677: RuntimeWarning: Inconsistent parameter values for distribution with name \"max_depth\"! This might be a configuration mistake. Optuna allows to call the same distribution with the same name more than once in a trial. When the parameter values are inconsistent optuna only uses the values of the first call and ignores all following. Using these values: {'log': False, 'step': 1, 'low': 10, 'high': 50}\n",
      "  warnings.warn(\n",
      "[I 2023-11-29 15:26:40,543] Trial 55 finished with value: 0.3793103448275862 and parameters: {'n_estimators': 893, 'max_depth': 33}. Best is trial 2 with value: 0.4.\n"
     ]
    },
    {
     "name": "stdout",
     "output_type": "stream",
     "text": [
      "0.3793103448275862\n",
      "[LightGBM] [Info] Number of positive: 1124, number of negative: 2646\n",
      "[LightGBM] [Info] Auto-choosing row-wise multi-threading, the overhead of testing was 0.000072 seconds.\n",
      "You can set `force_row_wise=true` to remove the overhead.\n",
      "And if memory is not enough, you can set `force_col_wise=true`.\n",
      "[LightGBM] [Info] Total Bins 40\n",
      "[LightGBM] [Info] Number of data points in the train set: 3770, number of used features: 6\n",
      "[LightGBM] [Info] [binary:BoostFromScore]: pavg=0.298143 -> initscore=-0.856155\n",
      "[LightGBM] [Info] Start training from score -0.856155\n"
     ]
    },
    {
     "name": "stderr",
     "output_type": "stream",
     "text": [
      "c:\\Users\\enric\\anaconda3\\envs\\gcp_demo2\\Lib\\site-packages\\optuna\\trial\\_trial.py:677: RuntimeWarning: Inconsistent parameter values for distribution with name \"max_depth\"! This might be a configuration mistake. Optuna allows to call the same distribution with the same name more than once in a trial. When the parameter values are inconsistent optuna only uses the values of the first call and ignores all following. Using these values: {'log': False, 'step': 1, 'low': 10, 'high': 50}\n",
      "  warnings.warn(\n",
      "[I 2023-11-29 15:26:41,136] Trial 56 finished with value: 0.38275862068965516 and parameters: {'n_estimators': 813, 'max_depth': 39}. Best is trial 2 with value: 0.4.\n"
     ]
    },
    {
     "name": "stdout",
     "output_type": "stream",
     "text": [
      "0.38275862068965516\n",
      "[LightGBM] [Info] Number of positive: 1124, number of negative: 2646\n",
      "[LightGBM] [Info] Auto-choosing row-wise multi-threading, the overhead of testing was 0.000071 seconds.\n",
      "You can set `force_row_wise=true` to remove the overhead.\n",
      "And if memory is not enough, you can set `force_col_wise=true`.\n",
      "[LightGBM] [Info] Total Bins 40\n",
      "[LightGBM] [Info] Number of data points in the train set: 3770, number of used features: 6\n",
      "[LightGBM] [Info] [binary:BoostFromScore]: pavg=0.298143 -> initscore=-0.856155\n",
      "[LightGBM] [Info] Start training from score -0.856155\n"
     ]
    },
    {
     "name": "stderr",
     "output_type": "stream",
     "text": [
      "c:\\Users\\enric\\anaconda3\\envs\\gcp_demo2\\Lib\\site-packages\\optuna\\trial\\_trial.py:677: RuntimeWarning: Inconsistent parameter values for distribution with name \"max_depth\"! This might be a configuration mistake. Optuna allows to call the same distribution with the same name more than once in a trial. When the parameter values are inconsistent optuna only uses the values of the first call and ignores all following. Using these values: {'log': False, 'step': 1, 'low': 10, 'high': 50}\n",
      "  warnings.warn(\n",
      "[I 2023-11-29 15:26:41,434] Trial 57 finished with value: 0.3793103448275862 and parameters: {'n_estimators': 952, 'max_depth': 11}. Best is trial 2 with value: 0.4.\n"
     ]
    },
    {
     "name": "stdout",
     "output_type": "stream",
     "text": [
      "0.3793103448275862\n",
      "[LightGBM] [Info] Number of positive: 1124, number of negative: 2646\n",
      "[LightGBM] [Info] Auto-choosing row-wise multi-threading, the overhead of testing was 0.000065 seconds.\n",
      "You can set `force_row_wise=true` to remove the overhead.\n",
      "And if memory is not enough, you can set `force_col_wise=true`.\n",
      "[LightGBM] [Info] Total Bins 40\n",
      "[LightGBM] [Info] Number of data points in the train set: 3770, number of used features: 6\n",
      "[LightGBM] [Info] [binary:BoostFromScore]: pavg=0.298143 -> initscore=-0.856155\n",
      "[LightGBM] [Info] Start training from score -0.856155\n"
     ]
    },
    {
     "name": "stderr",
     "output_type": "stream",
     "text": [
      "c:\\Users\\enric\\anaconda3\\envs\\gcp_demo2\\Lib\\site-packages\\optuna\\trial\\_trial.py:677: RuntimeWarning: Inconsistent parameter values for distribution with name \"max_depth\"! This might be a configuration mistake. Optuna allows to call the same distribution with the same name more than once in a trial. When the parameter values are inconsistent optuna only uses the values of the first call and ignores all following. Using these values: {'log': False, 'step': 1, 'low': 10, 'high': 50}\n",
      "  warnings.warn(\n",
      "[I 2023-11-29 15:26:42,226] Trial 58 finished with value: 0.3896551724137931 and parameters: {'n_estimators': 852, 'max_depth': 50}. Best is trial 2 with value: 0.4.\n"
     ]
    },
    {
     "name": "stdout",
     "output_type": "stream",
     "text": [
      "0.3896551724137931\n",
      "[LightGBM] [Info] Number of positive: 1124, number of negative: 2646\n",
      "[LightGBM] [Info] Auto-choosing row-wise multi-threading, the overhead of testing was 0.000058 seconds.\n",
      "You can set `force_row_wise=true` to remove the overhead.\n",
      "And if memory is not enough, you can set `force_col_wise=true`.\n",
      "[LightGBM] [Info] Total Bins 40\n",
      "[LightGBM] [Info] Number of data points in the train set: 3770, number of used features: 6\n",
      "[LightGBM] [Info] [binary:BoostFromScore]: pavg=0.298143 -> initscore=-0.856155\n",
      "[LightGBM] [Info] Start training from score -0.856155\n"
     ]
    },
    {
     "name": "stderr",
     "output_type": "stream",
     "text": [
      "c:\\Users\\enric\\anaconda3\\envs\\gcp_demo2\\Lib\\site-packages\\optuna\\trial\\_trial.py:677: RuntimeWarning: Inconsistent parameter values for distribution with name \"max_depth\"! This might be a configuration mistake. Optuna allows to call the same distribution with the same name more than once in a trial. When the parameter values are inconsistent optuna only uses the values of the first call and ignores all following. Using these values: {'log': False, 'step': 1, 'low': 10, 'high': 50}\n",
      "  warnings.warn(\n",
      "[I 2023-11-29 15:26:42,777] Trial 59 finished with value: 0.3793103448275862 and parameters: {'n_estimators': 705, 'max_depth': 42}. Best is trial 2 with value: 0.4.\n"
     ]
    },
    {
     "name": "stdout",
     "output_type": "stream",
     "text": [
      "0.3793103448275862\n",
      "[LightGBM] [Info] Number of positive: 1124, number of negative: 2646\n",
      "[LightGBM] [Info] Auto-choosing row-wise multi-threading, the overhead of testing was 0.000193 seconds.\n",
      "You can set `force_row_wise=true` to remove the overhead.\n",
      "And if memory is not enough, you can set `force_col_wise=true`.\n",
      "[LightGBM] [Info] Total Bins 40\n",
      "[LightGBM] [Info] Number of data points in the train set: 3770, number of used features: 6\n",
      "[LightGBM] [Info] [binary:BoostFromScore]: pavg=0.298143 -> initscore=-0.856155\n",
      "[LightGBM] [Info] Start training from score -0.856155\n"
     ]
    },
    {
     "name": "stderr",
     "output_type": "stream",
     "text": [
      "c:\\Users\\enric\\anaconda3\\envs\\gcp_demo2\\Lib\\site-packages\\optuna\\trial\\_trial.py:677: RuntimeWarning: Inconsistent parameter values for distribution with name \"max_depth\"! This might be a configuration mistake. Optuna allows to call the same distribution with the same name more than once in a trial. When the parameter values are inconsistent optuna only uses the values of the first call and ignores all following. Using these values: {'log': False, 'step': 1, 'low': 10, 'high': 50}\n",
      "  warnings.warn(\n",
      "[I 2023-11-29 15:26:43,198] Trial 60 finished with value: 0.38620689655172413 and parameters: {'n_estimators': 619, 'max_depth': 34}. Best is trial 2 with value: 0.4.\n"
     ]
    },
    {
     "name": "stdout",
     "output_type": "stream",
     "text": [
      "0.38620689655172413\n",
      "[LightGBM] [Info] Number of positive: 1124, number of negative: 2646\n",
      "[LightGBM] [Info] Auto-choosing row-wise multi-threading, the overhead of testing was 0.000081 seconds.\n",
      "You can set `force_row_wise=true` to remove the overhead.\n",
      "And if memory is not enough, you can set `force_col_wise=true`.\n",
      "[LightGBM] [Info] Total Bins 40\n",
      "[LightGBM] [Info] Number of data points in the train set: 3770, number of used features: 6\n",
      "[LightGBM] [Info] [binary:BoostFromScore]: pavg=0.298143 -> initscore=-0.856155\n",
      "[LightGBM] [Info] Start training from score -0.856155\n"
     ]
    },
    {
     "name": "stderr",
     "output_type": "stream",
     "text": [
      "c:\\Users\\enric\\anaconda3\\envs\\gcp_demo2\\Lib\\site-packages\\optuna\\trial\\_trial.py:677: RuntimeWarning: Inconsistent parameter values for distribution with name \"max_depth\"! This might be a configuration mistake. Optuna allows to call the same distribution with the same name more than once in a trial. When the parameter values are inconsistent optuna only uses the values of the first call and ignores all following. Using these values: {'log': False, 'step': 1, 'low': 10, 'high': 50}\n",
      "  warnings.warn(\n",
      "[I 2023-11-29 15:26:43,886] Trial 61 finished with value: 0.3896551724137931 and parameters: {'n_estimators': 766, 'max_depth': 46}. Best is trial 2 with value: 0.4.\n"
     ]
    },
    {
     "name": "stdout",
     "output_type": "stream",
     "text": [
      "0.3896551724137931\n",
      "[LightGBM] [Info] Number of positive: 1124, number of negative: 2646\n",
      "[LightGBM] [Info] Auto-choosing row-wise multi-threading, the overhead of testing was 0.000122 seconds.\n",
      "You can set `force_row_wise=true` to remove the overhead.\n",
      "And if memory is not enough, you can set `force_col_wise=true`.\n",
      "[LightGBM] [Info] Total Bins 40\n",
      "[LightGBM] [Info] Number of data points in the train set: 3770, number of used features: 6\n",
      "[LightGBM] [Info] [binary:BoostFromScore]: pavg=0.298143 -> initscore=-0.856155\n",
      "[LightGBM] [Info] Start training from score -0.856155\n"
     ]
    },
    {
     "name": "stderr",
     "output_type": "stream",
     "text": [
      "c:\\Users\\enric\\anaconda3\\envs\\gcp_demo2\\Lib\\site-packages\\optuna\\trial\\_trial.py:677: RuntimeWarning: Inconsistent parameter values for distribution with name \"max_depth\"! This might be a configuration mistake. Optuna allows to call the same distribution with the same name more than once in a trial. When the parameter values are inconsistent optuna only uses the values of the first call and ignores all following. Using these values: {'log': False, 'step': 1, 'low': 10, 'high': 50}\n",
      "  warnings.warn(\n",
      "[I 2023-11-29 15:26:44,553] Trial 62 finished with value: 0.3931034482758621 and parameters: {'n_estimators': 789, 'max_depth': 47}. Best is trial 2 with value: 0.4.\n"
     ]
    },
    {
     "name": "stdout",
     "output_type": "stream",
     "text": [
      "0.3931034482758621\n",
      "[LightGBM] [Info] Number of positive: 1124, number of negative: 2646\n",
      "[LightGBM] [Info] Auto-choosing row-wise multi-threading, the overhead of testing was 0.000067 seconds.\n",
      "You can set `force_row_wise=true` to remove the overhead.\n",
      "And if memory is not enough, you can set `force_col_wise=true`.\n",
      "[LightGBM] [Info] Total Bins 40\n",
      "[LightGBM] [Info] Number of data points in the train set: 3770, number of used features: 6\n",
      "[LightGBM] [Info] [binary:BoostFromScore]: pavg=0.298143 -> initscore=-0.856155\n",
      "[LightGBM] [Info] Start training from score -0.856155\n"
     ]
    },
    {
     "name": "stderr",
     "output_type": "stream",
     "text": [
      "c:\\Users\\enric\\anaconda3\\envs\\gcp_demo2\\Lib\\site-packages\\optuna\\trial\\_trial.py:677: RuntimeWarning: Inconsistent parameter values for distribution with name \"max_depth\"! This might be a configuration mistake. Optuna allows to call the same distribution with the same name more than once in a trial. When the parameter values are inconsistent optuna only uses the values of the first call and ignores all following. Using these values: {'log': False, 'step': 1, 'low': 10, 'high': 50}\n",
      "  warnings.warn(\n",
      "[I 2023-11-29 15:26:45,141] Trial 63 finished with value: 0.3724137931034483 and parameters: {'n_estimators': 765, 'max_depth': 43}. Best is trial 2 with value: 0.4.\n"
     ]
    },
    {
     "name": "stdout",
     "output_type": "stream",
     "text": [
      "0.3724137931034483\n",
      "[LightGBM] [Info] Number of positive: 1124, number of negative: 2646\n",
      "[LightGBM] [Info] Auto-choosing row-wise multi-threading, the overhead of testing was 0.000091 seconds.\n",
      "You can set `force_row_wise=true` to remove the overhead.\n",
      "And if memory is not enough, you can set `force_col_wise=true`.\n",
      "[LightGBM] [Info] Total Bins 40\n",
      "[LightGBM] [Info] Number of data points in the train set: 3770, number of used features: 6\n",
      "[LightGBM] [Info] [binary:BoostFromScore]: pavg=0.298143 -> initscore=-0.856155\n",
      "[LightGBM] [Info] Start training from score -0.856155\n"
     ]
    },
    {
     "name": "stderr",
     "output_type": "stream",
     "text": [
      "c:\\Users\\enric\\anaconda3\\envs\\gcp_demo2\\Lib\\site-packages\\optuna\\trial\\_trial.py:677: RuntimeWarning: Inconsistent parameter values for distribution with name \"max_depth\"! This might be a configuration mistake. Optuna allows to call the same distribution with the same name more than once in a trial. When the parameter values are inconsistent optuna only uses the values of the first call and ignores all following. Using these values: {'log': False, 'step': 1, 'low': 10, 'high': 50}\n",
      "  warnings.warn(\n",
      "[I 2023-11-29 15:26:45,776] Trial 64 finished with value: 0.38620689655172413 and parameters: {'n_estimators': 663, 'max_depth': 40}. Best is trial 2 with value: 0.4.\n"
     ]
    },
    {
     "name": "stdout",
     "output_type": "stream",
     "text": [
      "0.38620689655172413\n",
      "[LightGBM] [Info] Number of positive: 1124, number of negative: 2646\n",
      "[LightGBM] [Info] Auto-choosing row-wise multi-threading, the overhead of testing was 0.000069 seconds.\n",
      "You can set `force_row_wise=true` to remove the overhead.\n",
      "And if memory is not enough, you can set `force_col_wise=true`.\n",
      "[LightGBM] [Info] Total Bins 40\n",
      "[LightGBM] [Info] Number of data points in the train set: 3770, number of used features: 6\n",
      "[LightGBM] [Info] [binary:BoostFromScore]: pavg=0.298143 -> initscore=-0.856155\n",
      "[LightGBM] [Info] Start training from score -0.856155\n"
     ]
    },
    {
     "name": "stderr",
     "output_type": "stream",
     "text": [
      "c:\\Users\\enric\\anaconda3\\envs\\gcp_demo2\\Lib\\site-packages\\optuna\\trial\\_trial.py:677: RuntimeWarning: Inconsistent parameter values for distribution with name \"max_depth\"! This might be a configuration mistake. Optuna allows to call the same distribution with the same name more than once in a trial. When the parameter values are inconsistent optuna only uses the values of the first call and ignores all following. Using these values: {'log': False, 'step': 1, 'low': 10, 'high': 50}\n",
      "  warnings.warn(\n",
      "[I 2023-11-29 15:26:46,539] Trial 65 finished with value: 0.3896551724137931 and parameters: {'n_estimators': 823, 'max_depth': 45}. Best is trial 2 with value: 0.4.\n"
     ]
    },
    {
     "name": "stdout",
     "output_type": "stream",
     "text": [
      "0.3896551724137931\n",
      "[LightGBM] [Info] Number of positive: 1124, number of negative: 2646\n",
      "[LightGBM] [Info] Auto-choosing col-wise multi-threading, the overhead of testing was 0.000364 seconds.\n",
      "You can set `force_col_wise=true` to remove the overhead.\n",
      "[LightGBM] [Info] Total Bins 40\n",
      "[LightGBM] [Info] Number of data points in the train set: 3770, number of used features: 6\n",
      "[LightGBM] [Info] [binary:BoostFromScore]: pavg=0.298143 -> initscore=-0.856155\n",
      "[LightGBM] [Info] Start training from score -0.856155\n"
     ]
    },
    {
     "name": "stderr",
     "output_type": "stream",
     "text": [
      "c:\\Users\\enric\\anaconda3\\envs\\gcp_demo2\\Lib\\site-packages\\optuna\\trial\\_trial.py:677: RuntimeWarning: Inconsistent parameter values for distribution with name \"max_depth\"! This might be a configuration mistake. Optuna allows to call the same distribution with the same name more than once in a trial. When the parameter values are inconsistent optuna only uses the values of the first call and ignores all following. Using these values: {'log': False, 'step': 1, 'low': 10, 'high': 50}\n",
      "  warnings.warn(\n",
      "[I 2023-11-29 15:26:47,370] Trial 66 finished with value: 0.38275862068965516 and parameters: {'n_estimators': 862, 'max_depth': 49}. Best is trial 2 with value: 0.4.\n"
     ]
    },
    {
     "name": "stdout",
     "output_type": "stream",
     "text": [
      "0.38275862068965516\n",
      "[LightGBM] [Info] Number of positive: 1124, number of negative: 2646\n",
      "[LightGBM] [Info] Auto-choosing row-wise multi-threading, the overhead of testing was 0.000065 seconds.\n",
      "You can set `force_row_wise=true` to remove the overhead.\n",
      "And if memory is not enough, you can set `force_col_wise=true`.\n",
      "[LightGBM] [Info] Total Bins 40\n",
      "[LightGBM] [Info] Number of data points in the train set: 3770, number of used features: 6\n",
      "[LightGBM] [Info] [binary:BoostFromScore]: pavg=0.298143 -> initscore=-0.856155\n",
      "[LightGBM] [Info] Start training from score -0.856155\n"
     ]
    },
    {
     "name": "stderr",
     "output_type": "stream",
     "text": [
      "c:\\Users\\enric\\anaconda3\\envs\\gcp_demo2\\Lib\\site-packages\\optuna\\trial\\_trial.py:677: RuntimeWarning: Inconsistent parameter values for distribution with name \"max_depth\"! This might be a configuration mistake. Optuna allows to call the same distribution with the same name more than once in a trial. When the parameter values are inconsistent optuna only uses the values of the first call and ignores all following. Using these values: {'log': False, 'step': 1, 'low': 10, 'high': 50}\n",
      "  warnings.warn(\n",
      "[I 2023-11-29 15:26:47,937] Trial 67 finished with value: 0.3896551724137931 and parameters: {'n_estimators': 911, 'max_depth': 36}. Best is trial 2 with value: 0.4.\n"
     ]
    },
    {
     "name": "stdout",
     "output_type": "stream",
     "text": [
      "0.3896551724137931\n",
      "[LightGBM] [Info] Number of positive: 1124, number of negative: 2646\n",
      "[LightGBM] [Info] Auto-choosing row-wise multi-threading, the overhead of testing was 0.000080 seconds.\n",
      "You can set `force_row_wise=true` to remove the overhead.\n",
      "And if memory is not enough, you can set `force_col_wise=true`.\n",
      "[LightGBM] [Info] Total Bins 40\n",
      "[LightGBM] [Info] Number of data points in the train set: 3770, number of used features: 6\n",
      "[LightGBM] [Info] [binary:BoostFromScore]: pavg=0.298143 -> initscore=-0.856155\n",
      "[LightGBM] [Info] Start training from score -0.856155\n"
     ]
    },
    {
     "name": "stderr",
     "output_type": "stream",
     "text": [
      "c:\\Users\\enric\\anaconda3\\envs\\gcp_demo2\\Lib\\site-packages\\optuna\\trial\\_trial.py:677: RuntimeWarning: Inconsistent parameter values for distribution with name \"max_depth\"! This might be a configuration mistake. Optuna allows to call the same distribution with the same name more than once in a trial. When the parameter values are inconsistent optuna only uses the values of the first call and ignores all following. Using these values: {'log': False, 'step': 1, 'low': 10, 'high': 50}\n",
      "  warnings.warn(\n",
      "[I 2023-11-29 15:26:48,402] Trial 68 finished with value: 0.3793103448275862 and parameters: {'n_estimators': 696, 'max_depth': 23}. Best is trial 2 with value: 0.4.\n"
     ]
    },
    {
     "name": "stdout",
     "output_type": "stream",
     "text": [
      "0.3793103448275862\n",
      "[LightGBM] [Info] Number of positive: 1124, number of negative: 2646\n",
      "[LightGBM] [Info] Auto-choosing row-wise multi-threading, the overhead of testing was 0.000066 seconds.\n",
      "You can set `force_row_wise=true` to remove the overhead.\n",
      "And if memory is not enough, you can set `force_col_wise=true`.\n",
      "[LightGBM] [Info] Total Bins 40\n",
      "[LightGBM] [Info] Number of data points in the train set: 3770, number of used features: 6\n",
      "[LightGBM] [Info] [binary:BoostFromScore]: pavg=0.298143 -> initscore=-0.856155\n",
      "[LightGBM] [Info] Start training from score -0.856155\n"
     ]
    },
    {
     "name": "stderr",
     "output_type": "stream",
     "text": [
      "c:\\Users\\enric\\anaconda3\\envs\\gcp_demo2\\Lib\\site-packages\\optuna\\trial\\_trial.py:677: RuntimeWarning: Inconsistent parameter values for distribution with name \"max_depth\"! This might be a configuration mistake. Optuna allows to call the same distribution with the same name more than once in a trial. When the parameter values are inconsistent optuna only uses the values of the first call and ignores all following. Using these values: {'log': False, 'step': 1, 'low': 10, 'high': 50}\n",
      "  warnings.warn(\n",
      "[I 2023-11-29 15:26:49,237] Trial 69 finished with value: 0.39655172413793105 and parameters: {'n_estimators': 731, 'max_depth': 30}. Best is trial 2 with value: 0.4.\n"
     ]
    },
    {
     "name": "stdout",
     "output_type": "stream",
     "text": [
      "0.39655172413793105\n",
      "[LightGBM] [Warning] Accuracy may be bad since you didn't explicitly set num_leaves OR 2^max_depth > num_leaves. (num_leaves=31).\n",
      "[LightGBM] [Warning] Accuracy may be bad since you didn't explicitly set num_leaves OR 2^max_depth > num_leaves. (num_leaves=31).\n",
      "[LightGBM] [Info] Number of positive: 1124, number of negative: 2646\n",
      "[LightGBM] [Info] Auto-choosing row-wise multi-threading, the overhead of testing was 0.000052 seconds.\n",
      "You can set `force_row_wise=true` to remove the overhead.\n",
      "And if memory is not enough, you can set `force_col_wise=true`.\n",
      "[LightGBM] [Info] Total Bins 40\n",
      "[LightGBM] [Info] Number of data points in the train set: 3770, number of used features: 6\n",
      "[LightGBM] [Info] [binary:BoostFromScore]: pavg=0.298143 -> initscore=-0.856155\n",
      "[LightGBM] [Info] Start training from score -0.856155\n"
     ]
    },
    {
     "name": "stderr",
     "output_type": "stream",
     "text": [
      "c:\\Users\\enric\\anaconda3\\envs\\gcp_demo2\\Lib\\site-packages\\optuna\\trial\\_trial.py:677: RuntimeWarning: Inconsistent parameter values for distribution with name \"max_depth\"! This might be a configuration mistake. Optuna allows to call the same distribution with the same name more than once in a trial. When the parameter values are inconsistent optuna only uses the values of the first call and ignores all following. Using these values: {'log': False, 'step': 1, 'low': 10, 'high': 50}\n",
      "  warnings.warn(\n",
      "[I 2023-11-29 15:26:49,697] Trial 70 finished with value: 0.38620689655172413 and parameters: {'n_estimators': 733, 'max_depth': 31}. Best is trial 2 with value: 0.4.\n"
     ]
    },
    {
     "name": "stdout",
     "output_type": "stream",
     "text": [
      "[LightGBM] [Warning] Accuracy may be bad since you didn't explicitly set num_leaves OR 2^max_depth > num_leaves. (num_leaves=31).\n",
      "0.38620689655172413\n",
      "[LightGBM] [Info] Number of positive: 1124, number of negative: 2646\n",
      "[LightGBM] [Info] Auto-choosing row-wise multi-threading, the overhead of testing was 0.000077 seconds.\n",
      "You can set `force_row_wise=true` to remove the overhead.\n",
      "And if memory is not enough, you can set `force_col_wise=true`.\n",
      "[LightGBM] [Info] Total Bins 40\n",
      "[LightGBM] [Info] Number of data points in the train set: 3770, number of used features: 6\n",
      "[LightGBM] [Info] [binary:BoostFromScore]: pavg=0.298143 -> initscore=-0.856155\n",
      "[LightGBM] [Info] Start training from score -0.856155\n"
     ]
    },
    {
     "name": "stderr",
     "output_type": "stream",
     "text": [
      "c:\\Users\\enric\\anaconda3\\envs\\gcp_demo2\\Lib\\site-packages\\optuna\\trial\\_trial.py:677: RuntimeWarning: Inconsistent parameter values for distribution with name \"max_depth\"! This might be a configuration mistake. Optuna allows to call the same distribution with the same name more than once in a trial. When the parameter values are inconsistent optuna only uses the values of the first call and ignores all following. Using these values: {'log': False, 'step': 1, 'low': 10, 'high': 50}\n",
      "  warnings.warn(\n",
      "[I 2023-11-29 15:26:50,390] Trial 71 finished with value: 0.3724137931034483 and parameters: {'n_estimators': 795, 'max_depth': 27}. Best is trial 2 with value: 0.4.\n",
      "c:\\Users\\enric\\anaconda3\\envs\\gcp_demo2\\Lib\\site-packages\\optuna\\trial\\_trial.py:677: RuntimeWarning: Inconsistent parameter values for distribution with name \"max_depth\"! This might be a configuration mistake. Optuna allows to call the same distribution with the same name more than once in a trial. When the parameter values are inconsistent optuna only uses the values of the first call and ignores all following. Using these values: {'log': False, 'step': 1, 'low': 10, 'high': 50}\n",
      "  warnings.warn(\n",
      "[I 2023-11-29 15:26:50,459] Trial 72 finished with value: 0.08620689655172414 and parameters: {'n_estimators': 11, 'max_depth': 29}. Best is trial 2 with value: 0.4.\n"
     ]
    },
    {
     "name": "stdout",
     "output_type": "stream",
     "text": [
      "0.3724137931034483\n",
      "[LightGBM] [Info] Number of positive: 1124, number of negative: 2646\n",
      "[LightGBM] [Info] Auto-choosing row-wise multi-threading, the overhead of testing was 0.000077 seconds.\n",
      "You can set `force_row_wise=true` to remove the overhead.\n",
      "And if memory is not enough, you can set `force_col_wise=true`.\n",
      "[LightGBM] [Info] Total Bins 40\n",
      "[LightGBM] [Info] Number of data points in the train set: 3770, number of used features: 6\n",
      "[LightGBM] [Info] [binary:BoostFromScore]: pavg=0.298143 -> initscore=-0.856155\n",
      "[LightGBM] [Info] Start training from score -0.856155\n",
      "0.08620689655172414\n",
      "[LightGBM] [Info] Number of positive: 1124, number of negative: 2646\n",
      "[LightGBM] [Info] Auto-choosing row-wise multi-threading, the overhead of testing was 0.000055 seconds.\n",
      "You can set `force_row_wise=true` to remove the overhead.\n",
      "And if memory is not enough, you can set `force_col_wise=true`.\n",
      "[LightGBM] [Info] Total Bins 40\n",
      "[LightGBM] [Info] Number of data points in the train set: 3770, number of used features: 6\n",
      "[LightGBM] [Info] [binary:BoostFromScore]: pavg=0.298143 -> initscore=-0.856155\n",
      "[LightGBM] [Info] Start training from score -0.856155\n"
     ]
    },
    {
     "name": "stderr",
     "output_type": "stream",
     "text": [
      "c:\\Users\\enric\\anaconda3\\envs\\gcp_demo2\\Lib\\site-packages\\optuna\\trial\\_trial.py:677: RuntimeWarning: Inconsistent parameter values for distribution with name \"max_depth\"! This might be a configuration mistake. Optuna allows to call the same distribution with the same name more than once in a trial. When the parameter values are inconsistent optuna only uses the values of the first call and ignores all following. Using these values: {'log': False, 'step': 1, 'low': 10, 'high': 50}\n",
      "  warnings.warn(\n",
      "[I 2023-11-29 15:26:51,001] Trial 73 finished with value: 0.38275862068965516 and parameters: {'n_estimators': 742, 'max_depth': 33}. Best is trial 2 with value: 0.4.\n"
     ]
    },
    {
     "name": "stdout",
     "output_type": "stream",
     "text": [
      "0.38275862068965516\n",
      "[LightGBM] [Info] Number of positive: 1124, number of negative: 2646\n",
      "[LightGBM] [Info] Auto-choosing row-wise multi-threading, the overhead of testing was 0.000072 seconds.\n",
      "You can set `force_row_wise=true` to remove the overhead.\n",
      "And if memory is not enough, you can set `force_col_wise=true`.\n",
      "[LightGBM] [Info] Total Bins 40\n",
      "[LightGBM] [Info] Number of data points in the train set: 3770, number of used features: 6\n",
      "[LightGBM] [Info] [binary:BoostFromScore]: pavg=0.298143 -> initscore=-0.856155\n",
      "[LightGBM] [Info] Start training from score -0.856155\n"
     ]
    },
    {
     "name": "stderr",
     "output_type": "stream",
     "text": [
      "c:\\Users\\enric\\anaconda3\\envs\\gcp_demo2\\Lib\\site-packages\\optuna\\trial\\_trial.py:677: RuntimeWarning: Inconsistent parameter values for distribution with name \"max_depth\"! This might be a configuration mistake. Optuna allows to call the same distribution with the same name more than once in a trial. When the parameter values are inconsistent optuna only uses the values of the first call and ignores all following. Using these values: {'log': False, 'step': 1, 'low': 10, 'high': 50}\n",
      "  warnings.warn(\n",
      "[I 2023-11-29 15:26:51,476] Trial 74 finished with value: 0.3896551724137931 and parameters: {'n_estimators': 656, 'max_depth': 34}. Best is trial 2 with value: 0.4.\n"
     ]
    },
    {
     "name": "stdout",
     "output_type": "stream",
     "text": [
      "0.3896551724137931\n",
      "[LightGBM] [Info] Number of positive: 1124, number of negative: 2646\n",
      "[LightGBM] [Info] Auto-choosing row-wise multi-threading, the overhead of testing was 0.000053 seconds.\n",
      "You can set `force_row_wise=true` to remove the overhead.\n",
      "And if memory is not enough, you can set `force_col_wise=true`.\n",
      "[LightGBM] [Info] Total Bins 40\n",
      "[LightGBM] [Info] Number of data points in the train set: 3770, number of used features: 6\n",
      "[LightGBM] [Info] [binary:BoostFromScore]: pavg=0.298143 -> initscore=-0.856155\n",
      "[LightGBM] [Info] Start training from score -0.856155\n"
     ]
    },
    {
     "name": "stderr",
     "output_type": "stream",
     "text": [
      "c:\\Users\\enric\\anaconda3\\envs\\gcp_demo2\\Lib\\site-packages\\optuna\\trial\\_trial.py:677: RuntimeWarning: Inconsistent parameter values for distribution with name \"max_depth\"! This might be a configuration mistake. Optuna allows to call the same distribution with the same name more than once in a trial. When the parameter values are inconsistent optuna only uses the values of the first call and ignores all following. Using these values: {'log': False, 'step': 1, 'low': 10, 'high': 50}\n",
      "  warnings.warn(\n",
      "[I 2023-11-29 15:26:51,918] Trial 75 finished with value: 0.36551724137931035 and parameters: {'n_estimators': 539, 'max_depth': 32}. Best is trial 2 with value: 0.4.\n"
     ]
    },
    {
     "name": "stdout",
     "output_type": "stream",
     "text": [
      "0.36551724137931035\n",
      "[LightGBM] [Info] Number of positive: 1124, number of negative: 2646\n",
      "[LightGBM] [Info] Auto-choosing row-wise multi-threading, the overhead of testing was 0.000072 seconds.\n",
      "You can set `force_row_wise=true` to remove the overhead.\n",
      "And if memory is not enough, you can set `force_col_wise=true`.\n",
      "[LightGBM] [Info] Total Bins 40\n",
      "[LightGBM] [Info] Number of data points in the train set: 3770, number of used features: 6\n",
      "[LightGBM] [Info] [binary:BoostFromScore]: pavg=0.298143 -> initscore=-0.856155\n",
      "[LightGBM] [Info] Start training from score -0.856155\n"
     ]
    },
    {
     "name": "stderr",
     "output_type": "stream",
     "text": [
      "c:\\Users\\enric\\anaconda3\\envs\\gcp_demo2\\Lib\\site-packages\\optuna\\trial\\_trial.py:677: RuntimeWarning: Inconsistent parameter values for distribution with name \"max_depth\"! This might be a configuration mistake. Optuna allows to call the same distribution with the same name more than once in a trial. When the parameter values are inconsistent optuna only uses the values of the first call and ignores all following. Using these values: {'log': False, 'step': 1, 'low': 10, 'high': 50}\n",
      "  warnings.warn(\n",
      "[I 2023-11-29 15:26:52,842] Trial 76 finished with value: 0.38620689655172413 and parameters: {'n_estimators': 836, 'max_depth': 36}. Best is trial 2 with value: 0.4.\n"
     ]
    },
    {
     "name": "stdout",
     "output_type": "stream",
     "text": [
      "0.38620689655172413\n",
      "[LightGBM] [Info] Number of positive: 1124, number of negative: 2646\n",
      "[LightGBM] [Info] Auto-choosing row-wise multi-threading, the overhead of testing was 0.000074 seconds.\n",
      "You can set `force_row_wise=true` to remove the overhead.\n",
      "And if memory is not enough, you can set `force_col_wise=true`.\n",
      "[LightGBM] [Info] Total Bins 40\n",
      "[LightGBM] [Info] Number of data points in the train set: 3770, number of used features: 6\n",
      "[LightGBM] [Info] [binary:BoostFromScore]: pavg=0.298143 -> initscore=-0.856155\n",
      "[LightGBM] [Info] Start training from score -0.856155\n"
     ]
    },
    {
     "name": "stderr",
     "output_type": "stream",
     "text": [
      "c:\\Users\\enric\\anaconda3\\envs\\gcp_demo2\\Lib\\site-packages\\optuna\\trial\\_trial.py:677: RuntimeWarning: Inconsistent parameter values for distribution with name \"max_depth\"! This might be a configuration mistake. Optuna allows to call the same distribution with the same name more than once in a trial. When the parameter values are inconsistent optuna only uses the values of the first call and ignores all following. Using these values: {'log': False, 'step': 1, 'low': 10, 'high': 50}\n",
      "  warnings.warn(\n",
      "[I 2023-11-29 15:26:53,413] Trial 77 finished with value: 0.39655172413793105 and parameters: {'n_estimators': 783, 'max_depth': 30}. Best is trial 2 with value: 0.4.\n"
     ]
    },
    {
     "name": "stdout",
     "output_type": "stream",
     "text": [
      "0.39655172413793105\n",
      "[LightGBM] [Info] Number of positive: 1124, number of negative: 2646\n",
      "[LightGBM] [Info] Auto-choosing row-wise multi-threading, the overhead of testing was 0.000081 seconds.\n",
      "You can set `force_row_wise=true` to remove the overhead.\n",
      "And if memory is not enough, you can set `force_col_wise=true`.\n",
      "[LightGBM] [Info] Total Bins 40\n",
      "[LightGBM] [Info] Number of data points in the train set: 3770, number of used features: 6\n",
      "[LightGBM] [Info] [binary:BoostFromScore]: pavg=0.298143 -> initscore=-0.856155\n",
      "[LightGBM] [Info] Start training from score -0.856155\n"
     ]
    },
    {
     "name": "stderr",
     "output_type": "stream",
     "text": [
      "c:\\Users\\enric\\anaconda3\\envs\\gcp_demo2\\Lib\\site-packages\\optuna\\trial\\_trial.py:677: RuntimeWarning: Inconsistent parameter values for distribution with name \"max_depth\"! This might be a configuration mistake. Optuna allows to call the same distribution with the same name more than once in a trial. When the parameter values are inconsistent optuna only uses the values of the first call and ignores all following. Using these values: {'log': False, 'step': 1, 'low': 10, 'high': 50}\n",
      "  warnings.warn(\n",
      "[I 2023-11-29 15:26:53,858] Trial 78 finished with value: 0.3689655172413793 and parameters: {'n_estimators': 632, 'max_depth': 30}. Best is trial 2 with value: 0.4.\n"
     ]
    },
    {
     "name": "stdout",
     "output_type": "stream",
     "text": [
      "0.3689655172413793\n",
      "[LightGBM] [Info] Number of positive: 1124, number of negative: 2646\n",
      "[LightGBM] [Info] Auto-choosing row-wise multi-threading, the overhead of testing was 0.000064 seconds.\n",
      "You can set `force_row_wise=true` to remove the overhead.\n",
      "And if memory is not enough, you can set `force_col_wise=true`.\n",
      "[LightGBM] [Info] Total Bins 40\n",
      "[LightGBM] [Info] Number of data points in the train set: 3770, number of used features: 6\n",
      "[LightGBM] [Info] [binary:BoostFromScore]: pavg=0.298143 -> initscore=-0.856155\n",
      "[LightGBM] [Info] Start training from score -0.856155\n"
     ]
    },
    {
     "name": "stderr",
     "output_type": "stream",
     "text": [
      "c:\\Users\\enric\\anaconda3\\envs\\gcp_demo2\\Lib\\site-packages\\optuna\\trial\\_trial.py:677: RuntimeWarning: Inconsistent parameter values for distribution with name \"max_depth\"! This might be a configuration mistake. Optuna allows to call the same distribution with the same name more than once in a trial. When the parameter values are inconsistent optuna only uses the values of the first call and ignores all following. Using these values: {'log': False, 'step': 1, 'low': 10, 'high': 50}\n",
      "  warnings.warn(\n",
      "[I 2023-11-29 15:26:54,396] Trial 79 finished with value: 0.38275862068965516 and parameters: {'n_estimators': 752, 'max_depth': 28}. Best is trial 2 with value: 0.4.\n"
     ]
    },
    {
     "name": "stdout",
     "output_type": "stream",
     "text": [
      "0.38275862068965516\n",
      "[LightGBM] [Info] Number of positive: 1124, number of negative: 2646\n",
      "[LightGBM] [Info] Auto-choosing row-wise multi-threading, the overhead of testing was 0.000077 seconds.\n",
      "You can set `force_row_wise=true` to remove the overhead.\n",
      "And if memory is not enough, you can set `force_col_wise=true`.\n",
      "[LightGBM] [Info] Total Bins 40\n",
      "[LightGBM] [Info] Number of data points in the train set: 3770, number of used features: 6\n",
      "[LightGBM] [Info] [binary:BoostFromScore]: pavg=0.298143 -> initscore=-0.856155\n",
      "[LightGBM] [Info] Start training from score -0.856155\n"
     ]
    },
    {
     "name": "stderr",
     "output_type": "stream",
     "text": [
      "c:\\Users\\enric\\anaconda3\\envs\\gcp_demo2\\Lib\\site-packages\\optuna\\trial\\_trial.py:677: RuntimeWarning: Inconsistent parameter values for distribution with name \"max_depth\"! This might be a configuration mistake. Optuna allows to call the same distribution with the same name more than once in a trial. When the parameter values are inconsistent optuna only uses the values of the first call and ignores all following. Using these values: {'log': False, 'step': 1, 'low': 10, 'high': 50}\n",
      "  warnings.warn(\n",
      "[I 2023-11-29 15:26:54,817] Trial 80 finished with value: 0.3586206896551724 and parameters: {'n_estimators': 716, 'max_depth': 25}. Best is trial 2 with value: 0.4.\n"
     ]
    },
    {
     "name": "stdout",
     "output_type": "stream",
     "text": [
      "0.3586206896551724\n",
      "[LightGBM] [Warning] Accuracy may be bad since you didn't explicitly set num_leaves OR 2^max_depth > num_leaves. (num_leaves=31).\n",
      "[LightGBM] [Warning] Accuracy may be bad since you didn't explicitly set num_leaves OR 2^max_depth > num_leaves. (num_leaves=31).\n",
      "[LightGBM] [Info] Number of positive: 1124, number of negative: 2646\n",
      "[LightGBM] [Info] Auto-choosing row-wise multi-threading, the overhead of testing was 0.000075 seconds.\n",
      "You can set `force_row_wise=true` to remove the overhead.\n",
      "And if memory is not enough, you can set `force_col_wise=true`.\n",
      "[LightGBM] [Info] Total Bins 40\n",
      "[LightGBM] [Info] Number of data points in the train set: 3770, number of used features: 6\n",
      "[LightGBM] [Info] [binary:BoostFromScore]: pavg=0.298143 -> initscore=-0.856155\n",
      "[LightGBM] [Info] Start training from score -0.856155\n"
     ]
    },
    {
     "name": "stderr",
     "output_type": "stream",
     "text": [
      "c:\\Users\\enric\\anaconda3\\envs\\gcp_demo2\\Lib\\site-packages\\optuna\\trial\\_trial.py:677: RuntimeWarning: Inconsistent parameter values for distribution with name \"max_depth\"! This might be a configuration mistake. Optuna allows to call the same distribution with the same name more than once in a trial. When the parameter values are inconsistent optuna only uses the values of the first call and ignores all following. Using these values: {'log': False, 'step': 1, 'low': 10, 'high': 50}\n",
      "  warnings.warn(\n",
      "[I 2023-11-29 15:26:55,367] Trial 81 finished with value: 0.38620689655172413 and parameters: {'n_estimators': 789, 'max_depth': 31}. Best is trial 2 with value: 0.4.\n"
     ]
    },
    {
     "name": "stdout",
     "output_type": "stream",
     "text": [
      "[LightGBM] [Warning] Accuracy may be bad since you didn't explicitly set num_leaves OR 2^max_depth > num_leaves. (num_leaves=31).\n",
      "0.38620689655172413\n",
      "[LightGBM] [Info] Number of positive: 1124, number of negative: 2646\n",
      "[LightGBM] [Info] Auto-choosing row-wise multi-threading, the overhead of testing was 0.000080 seconds.\n",
      "You can set `force_row_wise=true` to remove the overhead.\n",
      "And if memory is not enough, you can set `force_col_wise=true`.\n",
      "[LightGBM] [Info] Total Bins 40\n",
      "[LightGBM] [Info] Number of data points in the train set: 3770, number of used features: 6\n",
      "[LightGBM] [Info] [binary:BoostFromScore]: pavg=0.298143 -> initscore=-0.856155\n",
      "[LightGBM] [Info] Start training from score -0.856155\n"
     ]
    },
    {
     "name": "stderr",
     "output_type": "stream",
     "text": [
      "c:\\Users\\enric\\anaconda3\\envs\\gcp_demo2\\Lib\\site-packages\\optuna\\trial\\_trial.py:677: RuntimeWarning: Inconsistent parameter values for distribution with name \"max_depth\"! This might be a configuration mistake. Optuna allows to call the same distribution with the same name more than once in a trial. When the parameter values are inconsistent optuna only uses the values of the first call and ignores all following. Using these values: {'log': False, 'step': 1, 'low': 10, 'high': 50}\n",
      "  warnings.warn(\n",
      "[I 2023-11-29 15:26:55,868] Trial 82 finished with value: 0.38275862068965516 and parameters: {'n_estimators': 811, 'max_depth': 35}. Best is trial 2 with value: 0.4.\n"
     ]
    },
    {
     "name": "stdout",
     "output_type": "stream",
     "text": [
      "0.38275862068965516\n",
      "[LightGBM] [Info] Number of positive: 1124, number of negative: 2646\n",
      "[LightGBM] [Info] Auto-choosing row-wise multi-threading, the overhead of testing was 0.000069 seconds.\n",
      "You can set `force_row_wise=true` to remove the overhead.\n",
      "And if memory is not enough, you can set `force_col_wise=true`.\n",
      "[LightGBM] [Info] Total Bins 40\n",
      "[LightGBM] [Info] Number of data points in the train set: 3770, number of used features: 6\n",
      "[LightGBM] [Info] [binary:BoostFromScore]: pavg=0.298143 -> initscore=-0.856155\n",
      "[LightGBM] [Info] Start training from score -0.856155\n"
     ]
    },
    {
     "name": "stderr",
     "output_type": "stream",
     "text": [
      "c:\\Users\\enric\\anaconda3\\envs\\gcp_demo2\\Lib\\site-packages\\optuna\\trial\\_trial.py:677: RuntimeWarning: Inconsistent parameter values for distribution with name \"max_depth\"! This might be a configuration mistake. Optuna allows to call the same distribution with the same name more than once in a trial. When the parameter values are inconsistent optuna only uses the values of the first call and ignores all following. Using these values: {'log': False, 'step': 1, 'low': 10, 'high': 50}\n",
      "  warnings.warn(\n",
      "[I 2023-11-29 15:26:56,435] Trial 83 finished with value: 0.3724137931034483 and parameters: {'n_estimators': 896, 'max_depth': 38}. Best is trial 2 with value: 0.4.\n"
     ]
    },
    {
     "name": "stdout",
     "output_type": "stream",
     "text": [
      "0.3724137931034483\n",
      "[LightGBM] [Info] Number of positive: 1124, number of negative: 2646\n",
      "[LightGBM] [Info] Auto-choosing row-wise multi-threading, the overhead of testing was 0.000065 seconds.\n",
      "You can set `force_row_wise=true` to remove the overhead.\n",
      "And if memory is not enough, you can set `force_col_wise=true`.\n",
      "[LightGBM] [Info] Total Bins 40\n",
      "[LightGBM] [Info] Number of data points in the train set: 3770, number of used features: 6\n",
      "[LightGBM] [Info] [binary:BoostFromScore]: pavg=0.298143 -> initscore=-0.856155\n",
      "[LightGBM] [Info] Start training from score -0.856155\n"
     ]
    },
    {
     "name": "stderr",
     "output_type": "stream",
     "text": [
      "c:\\Users\\enric\\anaconda3\\envs\\gcp_demo2\\Lib\\site-packages\\optuna\\trial\\_trial.py:677: RuntimeWarning: Inconsistent parameter values for distribution with name \"max_depth\"! This might be a configuration mistake. Optuna allows to call the same distribution with the same name more than once in a trial. When the parameter values are inconsistent optuna only uses the values of the first call and ignores all following. Using these values: {'log': False, 'step': 1, 'low': 10, 'high': 50}\n",
      "  warnings.warn(\n",
      "[I 2023-11-29 15:26:56,828] Trial 84 finished with value: 0.38275862068965516 and parameters: {'n_estimators': 777, 'max_depth': 28}. Best is trial 2 with value: 0.4.\n"
     ]
    },
    {
     "name": "stdout",
     "output_type": "stream",
     "text": [
      "0.38275862068965516\n",
      "[LightGBM] [Info] Number of positive: 1124, number of negative: 2646\n",
      "[LightGBM] [Info] Auto-choosing row-wise multi-threading, the overhead of testing was 0.000052 seconds.\n",
      "You can set `force_row_wise=true` to remove the overhead.\n",
      "And if memory is not enough, you can set `force_col_wise=true`.\n",
      "[LightGBM] [Info] Total Bins 40\n",
      "[LightGBM] [Info] Number of data points in the train set: 3770, number of used features: 6\n",
      "[LightGBM] [Info] [binary:BoostFromScore]: pavg=0.298143 -> initscore=-0.856155\n",
      "[LightGBM] [Info] Start training from score -0.856155\n"
     ]
    },
    {
     "name": "stderr",
     "output_type": "stream",
     "text": [
      "c:\\Users\\enric\\anaconda3\\envs\\gcp_demo2\\Lib\\site-packages\\optuna\\trial\\_trial.py:677: RuntimeWarning: Inconsistent parameter values for distribution with name \"max_depth\"! This might be a configuration mistake. Optuna allows to call the same distribution with the same name more than once in a trial. When the parameter values are inconsistent optuna only uses the values of the first call and ignores all following. Using these values: {'log': False, 'step': 1, 'low': 10, 'high': 50}\n",
      "  warnings.warn(\n",
      "[I 2023-11-29 15:26:57,399] Trial 85 finished with value: 0.4 and parameters: {'n_estimators': 863, 'max_depth': 30}. Best is trial 2 with value: 0.4.\n"
     ]
    },
    {
     "name": "stdout",
     "output_type": "stream",
     "text": [
      "0.4\n",
      "[LightGBM] [Info] Number of positive: 1124, number of negative: 2646\n",
      "[LightGBM] [Info] Auto-choosing row-wise multi-threading, the overhead of testing was 0.000093 seconds.\n",
      "You can set `force_row_wise=true` to remove the overhead.\n",
      "And if memory is not enough, you can set `force_col_wise=true`.\n",
      "[LightGBM] [Info] Total Bins 40\n",
      "[LightGBM] [Info] Number of data points in the train set: 3770, number of used features: 6\n",
      "[LightGBM] [Info] [binary:BoostFromScore]: pavg=0.298143 -> initscore=-0.856155\n",
      "[LightGBM] [Info] Start training from score -0.856155\n"
     ]
    },
    {
     "name": "stderr",
     "output_type": "stream",
     "text": [
      "c:\\Users\\enric\\anaconda3\\envs\\gcp_demo2\\Lib\\site-packages\\optuna\\trial\\_trial.py:677: RuntimeWarning: Inconsistent parameter values for distribution with name \"max_depth\"! This might be a configuration mistake. Optuna allows to call the same distribution with the same name more than once in a trial. When the parameter values are inconsistent optuna only uses the values of the first call and ignores all following. Using these values: {'log': False, 'step': 1, 'low': 10, 'high': 50}\n",
      "  warnings.warn(\n",
      "[I 2023-11-29 15:26:57,981] Trial 86 finished with value: 0.38620689655172413 and parameters: {'n_estimators': 868, 'max_depth': 32}. Best is trial 2 with value: 0.4.\n"
     ]
    },
    {
     "name": "stdout",
     "output_type": "stream",
     "text": [
      "0.38620689655172413\n",
      "[LightGBM] [Info] Number of positive: 1124, number of negative: 2646\n",
      "[LightGBM] [Info] Auto-choosing row-wise multi-threading, the overhead of testing was 0.000071 seconds.\n",
      "You can set `force_row_wise=true` to remove the overhead.\n",
      "And if memory is not enough, you can set `force_col_wise=true`.\n",
      "[LightGBM] [Info] Total Bins 40\n",
      "[LightGBM] [Info] Number of data points in the train set: 3770, number of used features: 6\n",
      "[LightGBM] [Info] [binary:BoostFromScore]: pavg=0.298143 -> initscore=-0.856155\n",
      "[LightGBM] [Info] Start training from score -0.856155\n"
     ]
    },
    {
     "name": "stderr",
     "output_type": "stream",
     "text": [
      "c:\\Users\\enric\\anaconda3\\envs\\gcp_demo2\\Lib\\site-packages\\optuna\\trial\\_trial.py:677: RuntimeWarning: Inconsistent parameter values for distribution with name \"max_depth\"! This might be a configuration mistake. Optuna allows to call the same distribution with the same name more than once in a trial. When the parameter values are inconsistent optuna only uses the values of the first call and ignores all following. Using these values: {'log': False, 'step': 1, 'low': 10, 'high': 50}\n",
      "  warnings.warn(\n",
      "[I 2023-11-29 15:26:58,517] Trial 87 finished with value: 0.3896551724137931 and parameters: {'n_estimators': 934, 'max_depth': 26}. Best is trial 2 with value: 0.4.\n"
     ]
    },
    {
     "name": "stdout",
     "output_type": "stream",
     "text": [
      "0.3896551724137931\n",
      "[LightGBM] [Info] Number of positive: 1124, number of negative: 2646\n",
      "[LightGBM] [Info] Auto-choosing row-wise multi-threading, the overhead of testing was 0.000056 seconds.\n",
      "You can set `force_row_wise=true` to remove the overhead.\n",
      "And if memory is not enough, you can set `force_col_wise=true`.\n",
      "[LightGBM] [Info] Total Bins 40\n",
      "[LightGBM] [Info] Number of data points in the train set: 3770, number of used features: 6\n",
      "[LightGBM] [Info] [binary:BoostFromScore]: pavg=0.298143 -> initscore=-0.856155\n",
      "[LightGBM] [Info] Start training from score -0.856155\n"
     ]
    },
    {
     "name": "stderr",
     "output_type": "stream",
     "text": [
      "c:\\Users\\enric\\anaconda3\\envs\\gcp_demo2\\Lib\\site-packages\\optuna\\trial\\_trial.py:677: RuntimeWarning: Inconsistent parameter values for distribution with name \"max_depth\"! This might be a configuration mistake. Optuna allows to call the same distribution with the same name more than once in a trial. When the parameter values are inconsistent optuna only uses the values of the first call and ignores all following. Using these values: {'log': False, 'step': 1, 'low': 10, 'high': 50}\n",
      "  warnings.warn(\n",
      "[I 2023-11-29 15:26:59,016] Trial 88 finished with value: 0.39655172413793105 and parameters: {'n_estimators': 852, 'max_depth': 30}. Best is trial 2 with value: 0.4.\n"
     ]
    },
    {
     "name": "stdout",
     "output_type": "stream",
     "text": [
      "0.39655172413793105\n",
      "[LightGBM] [Info] Number of positive: 1124, number of negative: 2646\n",
      "[LightGBM] [Info] Auto-choosing row-wise multi-threading, the overhead of testing was 0.000100 seconds.\n",
      "You can set `force_row_wise=true` to remove the overhead.\n",
      "And if memory is not enough, you can set `force_col_wise=true`.\n",
      "[LightGBM] [Info] Total Bins 40\n",
      "[LightGBM] [Info] Number of data points in the train set: 3770, number of used features: 6\n",
      "[LightGBM] [Info] [binary:BoostFromScore]: pavg=0.298143 -> initscore=-0.856155\n",
      "[LightGBM] [Info] Start training from score -0.856155\n"
     ]
    },
    {
     "name": "stderr",
     "output_type": "stream",
     "text": [
      "c:\\Users\\enric\\anaconda3\\envs\\gcp_demo2\\Lib\\site-packages\\optuna\\trial\\_trial.py:677: RuntimeWarning: Inconsistent parameter values for distribution with name \"max_depth\"! This might be a configuration mistake. Optuna allows to call the same distribution with the same name more than once in a trial. When the parameter values are inconsistent optuna only uses the values of the first call and ignores all following. Using these values: {'log': False, 'step': 1, 'low': 10, 'high': 50}\n",
      "  warnings.warn(\n",
      "[I 2023-11-29 15:26:59,700] Trial 89 finished with value: 0.3724137931034483 and parameters: {'n_estimators': 990, 'max_depth': 29}. Best is trial 2 with value: 0.4.\n"
     ]
    },
    {
     "name": "stdout",
     "output_type": "stream",
     "text": [
      "0.3724137931034483\n",
      "[LightGBM] [Info] Number of positive: 1124, number of negative: 2646\n",
      "[LightGBM] [Info] Auto-choosing row-wise multi-threading, the overhead of testing was 0.000067 seconds.\n",
      "You can set `force_row_wise=true` to remove the overhead.\n",
      "And if memory is not enough, you can set `force_col_wise=true`.\n",
      "[LightGBM] [Info] Total Bins 40\n",
      "[LightGBM] [Info] Number of data points in the train set: 3770, number of used features: 6\n",
      "[LightGBM] [Info] [binary:BoostFromScore]: pavg=0.298143 -> initscore=-0.856155\n",
      "[LightGBM] [Info] Start training from score -0.856155\n"
     ]
    },
    {
     "name": "stderr",
     "output_type": "stream",
     "text": [
      "c:\\Users\\enric\\anaconda3\\envs\\gcp_demo2\\Lib\\site-packages\\optuna\\trial\\_trial.py:677: RuntimeWarning: Inconsistent parameter values for distribution with name \"max_depth\"! This might be a configuration mistake. Optuna allows to call the same distribution with the same name more than once in a trial. When the parameter values are inconsistent optuna only uses the values of the first call and ignores all following. Using these values: {'log': False, 'step': 1, 'low': 10, 'high': 50}\n",
      "  warnings.warn(\n",
      "[I 2023-11-29 15:26:59,940] Trial 90 finished with value: 0.3482758620689655 and parameters: {'n_estimators': 308, 'max_depth': 30}. Best is trial 2 with value: 0.4.\n"
     ]
    },
    {
     "name": "stdout",
     "output_type": "stream",
     "text": [
      "0.3482758620689655\n",
      "[LightGBM] [Info] Number of positive: 1124, number of negative: 2646\n",
      "[LightGBM] [Info] Auto-choosing row-wise multi-threading, the overhead of testing was 0.000077 seconds.\n",
      "You can set `force_row_wise=true` to remove the overhead.\n",
      "And if memory is not enough, you can set `force_col_wise=true`.\n",
      "[LightGBM] [Info] Total Bins 40\n",
      "[LightGBM] [Info] Number of data points in the train set: 3770, number of used features: 6\n",
      "[LightGBM] [Info] [binary:BoostFromScore]: pavg=0.298143 -> initscore=-0.856155\n",
      "[LightGBM] [Info] Start training from score -0.856155\n"
     ]
    },
    {
     "name": "stderr",
     "output_type": "stream",
     "text": [
      "c:\\Users\\enric\\anaconda3\\envs\\gcp_demo2\\Lib\\site-packages\\optuna\\trial\\_trial.py:677: RuntimeWarning: Inconsistent parameter values for distribution with name \"max_depth\"! This might be a configuration mistake. Optuna allows to call the same distribution with the same name more than once in a trial. When the parameter values are inconsistent optuna only uses the values of the first call and ignores all following. Using these values: {'log': False, 'step': 1, 'low': 10, 'high': 50}\n",
      "  warnings.warn(\n",
      "[I 2023-11-29 15:27:00,543] Trial 91 finished with value: 0.3758620689655172 and parameters: {'n_estimators': 836, 'max_depth': 33}. Best is trial 2 with value: 0.4.\n"
     ]
    },
    {
     "name": "stdout",
     "output_type": "stream",
     "text": [
      "0.3758620689655172\n",
      "[LightGBM] [Info] Number of positive: 1124, number of negative: 2646\n",
      "[LightGBM] [Info] Auto-choosing row-wise multi-threading, the overhead of testing was 0.000081 seconds.\n",
      "You can set `force_row_wise=true` to remove the overhead.\n",
      "And if memory is not enough, you can set `force_col_wise=true`.\n",
      "[LightGBM] [Info] Total Bins 40\n",
      "[LightGBM] [Info] Number of data points in the train set: 3770, number of used features: 6\n",
      "[LightGBM] [Info] [binary:BoostFromScore]: pavg=0.298143 -> initscore=-0.856155\n",
      "[LightGBM] [Info] Start training from score -0.856155\n"
     ]
    },
    {
     "name": "stderr",
     "output_type": "stream",
     "text": [
      "c:\\Users\\enric\\anaconda3\\envs\\gcp_demo2\\Lib\\site-packages\\optuna\\trial\\_trial.py:677: RuntimeWarning: Inconsistent parameter values for distribution with name \"max_depth\"! This might be a configuration mistake. Optuna allows to call the same distribution with the same name more than once in a trial. When the parameter values are inconsistent optuna only uses the values of the first call and ignores all following. Using these values: {'log': False, 'step': 1, 'low': 10, 'high': 50}\n",
      "  warnings.warn(\n",
      "[I 2023-11-29 15:27:01,047] Trial 92 finished with value: 0.40344827586206894 and parameters: {'n_estimators': 808, 'max_depth': 34}. Best is trial 92 with value: 0.40344827586206894.\n"
     ]
    },
    {
     "name": "stdout",
     "output_type": "stream",
     "text": [
      "0.40344827586206894\n",
      "[LightGBM] [Info] Number of positive: 1124, number of negative: 2646\n",
      "[LightGBM] [Info] Auto-choosing row-wise multi-threading, the overhead of testing was 0.000052 seconds.\n",
      "You can set `force_row_wise=true` to remove the overhead.\n",
      "And if memory is not enough, you can set `force_col_wise=true`.\n",
      "[LightGBM] [Info] Total Bins 40\n",
      "[LightGBM] [Info] Number of data points in the train set: 3770, number of used features: 6\n",
      "[LightGBM] [Info] [binary:BoostFromScore]: pavg=0.298143 -> initscore=-0.856155\n",
      "[LightGBM] [Info] Start training from score -0.856155\n"
     ]
    },
    {
     "name": "stderr",
     "output_type": "stream",
     "text": [
      "c:\\Users\\enric\\anaconda3\\envs\\gcp_demo2\\Lib\\site-packages\\optuna\\trial\\_trial.py:677: RuntimeWarning: Inconsistent parameter values for distribution with name \"max_depth\"! This might be a configuration mistake. Optuna allows to call the same distribution with the same name more than once in a trial. When the parameter values are inconsistent optuna only uses the values of the first call and ignores all following. Using these values: {'log': False, 'step': 1, 'low': 10, 'high': 50}\n",
      "  warnings.warn(\n",
      "[I 2023-11-29 15:27:01,434] Trial 93 finished with value: 0.3758620689655172 and parameters: {'n_estimators': 806, 'max_depth': 27}. Best is trial 92 with value: 0.40344827586206894.\n"
     ]
    },
    {
     "name": "stdout",
     "output_type": "stream",
     "text": [
      "0.3758620689655172\n",
      "[LightGBM] [Warning] Accuracy may be bad since you didn't explicitly set num_leaves OR 2^max_depth > num_leaves. (num_leaves=31).\n",
      "[LightGBM] [Warning] Accuracy may be bad since you didn't explicitly set num_leaves OR 2^max_depth > num_leaves. (num_leaves=31).\n",
      "[LightGBM] [Info] Number of positive: 1124, number of negative: 2646\n",
      "[LightGBM] [Info] Auto-choosing row-wise multi-threading, the overhead of testing was 0.000074 seconds.\n",
      "You can set `force_row_wise=true` to remove the overhead.\n",
      "And if memory is not enough, you can set `force_col_wise=true`.\n",
      "[LightGBM] [Info] Total Bins 40\n",
      "[LightGBM] [Info] Number of data points in the train set: 3770, number of used features: 6\n",
      "[LightGBM] [Info] [binary:BoostFromScore]: pavg=0.298143 -> initscore=-0.856155\n",
      "[LightGBM] [Info] Start training from score -0.856155\n"
     ]
    },
    {
     "name": "stderr",
     "output_type": "stream",
     "text": [
      "c:\\Users\\enric\\anaconda3\\envs\\gcp_demo2\\Lib\\site-packages\\optuna\\trial\\_trial.py:677: RuntimeWarning: Inconsistent parameter values for distribution with name \"max_depth\"! This might be a configuration mistake. Optuna allows to call the same distribution with the same name more than once in a trial. When the parameter values are inconsistent optuna only uses the values of the first call and ignores all following. Using these values: {'log': False, 'step': 1, 'low': 10, 'high': 50}\n",
      "  warnings.warn(\n",
      "[I 2023-11-29 15:27:01,934] Trial 94 finished with value: 0.3896551724137931 and parameters: {'n_estimators': 890, 'max_depth': 31}. Best is trial 92 with value: 0.40344827586206894.\n"
     ]
    },
    {
     "name": "stdout",
     "output_type": "stream",
     "text": [
      "[LightGBM] [Warning] Accuracy may be bad since you didn't explicitly set num_leaves OR 2^max_depth > num_leaves. (num_leaves=31).\n",
      "0.3896551724137931\n",
      "[LightGBM] [Info] Number of positive: 1124, number of negative: 2646\n",
      "[LightGBM] [Info] Auto-choosing row-wise multi-threading, the overhead of testing was 0.000084 seconds.\n",
      "You can set `force_row_wise=true` to remove the overhead.\n",
      "And if memory is not enough, you can set `force_col_wise=true`.\n",
      "[LightGBM] [Info] Total Bins 40\n",
      "[LightGBM] [Info] Number of data points in the train set: 3770, number of used features: 6\n",
      "[LightGBM] [Info] [binary:BoostFromScore]: pavg=0.298143 -> initscore=-0.856155\n",
      "[LightGBM] [Info] Start training from score -0.856155\n"
     ]
    },
    {
     "name": "stderr",
     "output_type": "stream",
     "text": [
      "c:\\Users\\enric\\anaconda3\\envs\\gcp_demo2\\Lib\\site-packages\\optuna\\trial\\_trial.py:677: RuntimeWarning: Inconsistent parameter values for distribution with name \"max_depth\"! This might be a configuration mistake. Optuna allows to call the same distribution with the same name more than once in a trial. When the parameter values are inconsistent optuna only uses the values of the first call and ignores all following. Using these values: {'log': False, 'step': 1, 'low': 10, 'high': 50}\n",
      "  warnings.warn(\n",
      "[I 2023-11-29 15:27:02,402] Trial 95 finished with value: 0.3793103448275862 and parameters: {'n_estimators': 853, 'max_depth': 29}. Best is trial 92 with value: 0.40344827586206894.\n"
     ]
    },
    {
     "name": "stdout",
     "output_type": "stream",
     "text": [
      "0.3793103448275862\n",
      "[LightGBM] [Info] Number of positive: 1124, number of negative: 2646\n",
      "[LightGBM] [Info] Auto-choosing row-wise multi-threading, the overhead of testing was 0.000056 seconds.\n",
      "You can set `force_row_wise=true` to remove the overhead.\n",
      "And if memory is not enough, you can set `force_col_wise=true`.\n",
      "[LightGBM] [Info] Total Bins 40\n",
      "[LightGBM] [Info] Number of data points in the train set: 3770, number of used features: 6\n",
      "[LightGBM] [Info] [binary:BoostFromScore]: pavg=0.298143 -> initscore=-0.856155\n",
      "[LightGBM] [Info] Start training from score -0.856155\n"
     ]
    },
    {
     "name": "stderr",
     "output_type": "stream",
     "text": [
      "c:\\Users\\enric\\anaconda3\\envs\\gcp_demo2\\Lib\\site-packages\\optuna\\trial\\_trial.py:677: RuntimeWarning: Inconsistent parameter values for distribution with name \"max_depth\"! This might be a configuration mistake. Optuna allows to call the same distribution with the same name more than once in a trial. When the parameter values are inconsistent optuna only uses the values of the first call and ignores all following. Using these values: {'log': False, 'step': 1, 'low': 10, 'high': 50}\n",
      "  warnings.warn(\n",
      "[I 2023-11-29 15:27:02,900] Trial 96 finished with value: 0.4 and parameters: {'n_estimators': 752, 'max_depth': 34}. Best is trial 92 with value: 0.40344827586206894.\n"
     ]
    },
    {
     "name": "stdout",
     "output_type": "stream",
     "text": [
      "0.4\n",
      "[LightGBM] [Info] Number of positive: 1124, number of negative: 2646\n",
      "[LightGBM] [Info] Auto-choosing row-wise multi-threading, the overhead of testing was 0.000078 seconds.\n",
      "You can set `force_row_wise=true` to remove the overhead.\n",
      "And if memory is not enough, you can set `force_col_wise=true`.\n",
      "[LightGBM] [Info] Total Bins 40\n",
      "[LightGBM] [Info] Number of data points in the train set: 3770, number of used features: 6\n",
      "[LightGBM] [Info] [binary:BoostFromScore]: pavg=0.298143 -> initscore=-0.856155\n",
      "[LightGBM] [Info] Start training from score -0.856155\n"
     ]
    },
    {
     "name": "stderr",
     "output_type": "stream",
     "text": [
      "c:\\Users\\enric\\anaconda3\\envs\\gcp_demo2\\Lib\\site-packages\\optuna\\trial\\_trial.py:677: RuntimeWarning: Inconsistent parameter values for distribution with name \"max_depth\"! This might be a configuration mistake. Optuna allows to call the same distribution with the same name more than once in a trial. When the parameter values are inconsistent optuna only uses the values of the first call and ignores all following. Using these values: {'log': False, 'step': 1, 'low': 10, 'high': 50}\n",
      "  warnings.warn(\n",
      "[I 2023-11-29 15:27:03,342] Trial 97 finished with value: 0.4 and parameters: {'n_estimators': 749, 'max_depth': 34}. Best is trial 92 with value: 0.40344827586206894.\n"
     ]
    },
    {
     "name": "stdout",
     "output_type": "stream",
     "text": [
      "0.4\n",
      "[LightGBM] [Info] Number of positive: 1124, number of negative: 2646\n",
      "[LightGBM] [Info] Auto-choosing row-wise multi-threading, the overhead of testing was 0.000081 seconds.\n",
      "You can set `force_row_wise=true` to remove the overhead.\n",
      "And if memory is not enough, you can set `force_col_wise=true`.\n",
      "[LightGBM] [Info] Total Bins 40\n",
      "[LightGBM] [Info] Number of data points in the train set: 3770, number of used features: 6\n",
      "[LightGBM] [Info] [binary:BoostFromScore]: pavg=0.298143 -> initscore=-0.856155\n",
      "[LightGBM] [Info] Start training from score -0.856155\n"
     ]
    },
    {
     "name": "stderr",
     "output_type": "stream",
     "text": [
      "c:\\Users\\enric\\anaconda3\\envs\\gcp_demo2\\Lib\\site-packages\\optuna\\trial\\_trial.py:677: RuntimeWarning: Inconsistent parameter values for distribution with name \"max_depth\"! This might be a configuration mistake. Optuna allows to call the same distribution with the same name more than once in a trial. When the parameter values are inconsistent optuna only uses the values of the first call and ignores all following. Using these values: {'log': False, 'step': 1, 'low': 10, 'high': 50}\n",
      "  warnings.warn(\n",
      "[I 2023-11-29 15:27:03,912] Trial 98 finished with value: 0.3896551724137931 and parameters: {'n_estimators': 704, 'max_depth': 34}. Best is trial 92 with value: 0.40344827586206894.\n"
     ]
    },
    {
     "name": "stdout",
     "output_type": "stream",
     "text": [
      "0.3896551724137931\n",
      "[LightGBM] [Info] Number of positive: 1124, number of negative: 2646\n",
      "[LightGBM] [Info] Auto-choosing row-wise multi-threading, the overhead of testing was 0.000080 seconds.\n",
      "You can set `force_row_wise=true` to remove the overhead.\n",
      "And if memory is not enough, you can set `force_col_wise=true`.\n",
      "[LightGBM] [Info] Total Bins 40\n",
      "[LightGBM] [Info] Number of data points in the train set: 3770, number of used features: 6\n",
      "[LightGBM] [Info] [binary:BoostFromScore]: pavg=0.298143 -> initscore=-0.856155\n",
      "[LightGBM] [Info] Start training from score -0.856155\n"
     ]
    },
    {
     "name": "stderr",
     "output_type": "stream",
     "text": [
      "c:\\Users\\enric\\anaconda3\\envs\\gcp_demo2\\Lib\\site-packages\\optuna\\trial\\_trial.py:677: RuntimeWarning: Inconsistent parameter values for distribution with name \"max_depth\"! This might be a configuration mistake. Optuna allows to call the same distribution with the same name more than once in a trial. When the parameter values are inconsistent optuna only uses the values of the first call and ignores all following. Using these values: {'log': False, 'step': 1, 'low': 10, 'high': 50}\n",
      "  warnings.warn(\n",
      "[I 2023-11-29 15:27:04,467] Trial 99 finished with value: 0.3896551724137931 and parameters: {'n_estimators': 751, 'max_depth': 37}. Best is trial 92 with value: 0.40344827586206894.\n"
     ]
    },
    {
     "name": "stdout",
     "output_type": "stream",
     "text": [
      "0.3896551724137931\n",
      "Best Trial:\n",
      "  Value:  0.40344827586206894\n",
      "  Params: \n",
      "    n_estimators: 808\n",
      "    max_depth: 34\n"
     ]
    }
   ],
   "source": [
    "def objective(trial):\n",
    "    # Defining the hyperparameters to search over\n",
    "    params = {\n",
    "        'n_estimators': trial.suggest_int('n_estimators', 5,1000),\n",
    "        'num_leaves': trial.suggest_int('max_depth', 10, 50),\n",
    "        'max_depth': trial.suggest_int('max_depth', 2, 5),\n",
    "    }\n",
    "\n",
    "    # Evaluating the Random Forest model with the current set of hyperparameters\n",
    "    if model_type == \"regression\":\n",
    "        model = LGBMRegressor(**params, n_jobs=-1, random_state=42)\n",
    "        metric = r2_score\n",
    "    else:\n",
    "        model = LGBMClassifier(**params, n_jobs=-1, random_state=42)\n",
    "        metric = recall_score\n",
    "    \n",
    "    random.seed(42)\n",
    "\n",
    "    train_idx = random.sample(list(X_train.index), round(X_train.shape[0] * 4/5))\n",
    "    valid_idx = list(set(X_train.index) - set(train_idx))\n",
    "\n",
    "    model.fit(X_train.loc[train_idx], y_train.loc[train_idx], )\n",
    "    y_pred = model.predict(X_train.loc[valid_idx])\n",
    "    score_valid = metric(y_train.loc[valid_idx], y_pred)\n",
    "    print(score_valid)\n",
    "    return score_valid\n",
    "\n",
    "# Creating a study object and optimize the objective function\n",
    "study = optuna.create_study(direction='maximize')\n",
    "study.optimize(objective, n_trials=100)\n",
    "\n",
    "# Printing the best hyperparameters and corresponding accuracy\n",
    "print('Best Trial:')\n",
    "print('  Value: ', study.best_trial.value)\n",
    "print('  Params: ')\n",
    "for key, value in study.best_trial.params.items():\n",
    "    print(f'    {key}: {value}')"
   ]
  },
  {
   "cell_type": "code",
   "execution_count": 5,
   "metadata": {},
   "outputs": [
    {
     "name": "stdout",
     "output_type": "stream",
     "text": [
      "[LightGBM] [Warning] Accuracy may be bad since you didn't explicitly set num_leaves OR 2^max_depth > num_leaves. (num_leaves=31).\n",
      "[LightGBM] [Warning] Accuracy may be bad since you didn't explicitly set num_leaves OR 2^max_depth > num_leaves. (num_leaves=31).\n",
      "[LightGBM] [Info] Number of positive: 1414, number of negative: 3298\n",
      "[LightGBM] [Info] Auto-choosing row-wise multi-threading, the overhead of testing was 0.000118 seconds.\n",
      "You can set `force_row_wise=true` to remove the overhead.\n",
      "And if memory is not enough, you can set `force_col_wise=true`.\n",
      "[LightGBM] [Info] Total Bins 40\n",
      "[LightGBM] [Info] Number of data points in the train set: 4712, number of used features: 6\n",
      "[LightGBM] [Info] [binary:BoostFromScore]: pavg=0.300085 -> initscore=-0.846894\n",
      "[LightGBM] [Info] Start training from score -0.846894\n",
      "[LightGBM] [Warning] Accuracy may be bad since you didn't explicitly set num_leaves OR 2^max_depth > num_leaves. (num_leaves=31).\n"
     ]
    },
    {
     "data": {
      "text/plain": [
       "0.5862800565770863"
      ]
     },
     "execution_count": 5,
     "metadata": {},
     "output_type": "execute_result"
    }
   ],
   "source": [
    "seed = 42\n",
    "\n",
    "if model_type == \"regression\":\n",
    "    model = LGBMRegressor(**study.best_trial.params, n_jobs=-1, random_state=seed)\n",
    "    metric = r2_score\n",
    "else:\n",
    "    model = LGBMClassifier(**study.best_trial.params, n_jobs=-1, random_state=seed)\n",
    "    metric = recall_score\n",
    "# model = LGBMClassifier(n_estimators=10000, n_jobs=-1, random_state=seed)\n",
    "model.fit(X_train, y_train)\n",
    "y_pred = model.predict(X_train)\n",
    "score_train = metric(y_train, y_pred)\n",
    "score_train"
   ]
  },
  {
   "cell_type": "code",
   "execution_count": 6,
   "metadata": {},
   "outputs": [
    {
     "data": {
      "text/plain": [
       "'recall'"
      ]
     },
     "execution_count": 6,
     "metadata": {},
     "output_type": "execute_result"
    }
   ],
   "source": [
    "metric.__name__.split('_')[0]"
   ]
  },
  {
   "cell_type": "code",
   "execution_count": 7,
   "metadata": {},
   "outputs": [
    {
     "name": "stdout",
     "output_type": "stream",
     "text": [
      "[LightGBM] [Warning] Accuracy may be bad since you didn't explicitly set num_leaves OR 2^max_depth > num_leaves. (num_leaves=31).\n",
      "[LightGBM] [Warning] Accuracy may be bad since you didn't explicitly set num_leaves OR 2^max_depth > num_leaves. (num_leaves=31).\n",
      "[LightGBM] [Info] Number of positive: 1131, number of negative: 2638\n",
      "[LightGBM] [Info] Auto-choosing row-wise multi-threading, the overhead of testing was 0.000082 seconds.\n",
      "You can set `force_row_wise=true` to remove the overhead.\n",
      "And if memory is not enough, you can set `force_col_wise=true`.\n",
      "[LightGBM] [Info] Total Bins 40\n",
      "[LightGBM] [Info] Number of data points in the train set: 3769, number of used features: 6\n",
      "[LightGBM] [Info] [binary:BoostFromScore]: pavg=0.300080 -> initscore=-0.846919\n",
      "[LightGBM] [Info] Start training from score -0.846919\n",
      "[LightGBM] [Warning] Accuracy may be bad since you didn't explicitly set num_leaves OR 2^max_depth > num_leaves. (num_leaves=31).\n",
      "[LightGBM] [Warning] Accuracy may be bad since you didn't explicitly set num_leaves OR 2^max_depth > num_leaves. (num_leaves=31).\n",
      "[LightGBM] [Warning] Accuracy may be bad since you didn't explicitly set num_leaves OR 2^max_depth > num_leaves. (num_leaves=31).\n",
      "[LightGBM] [Info] Number of positive: 1131, number of negative: 2638\n",
      "[LightGBM] [Info] Auto-choosing row-wise multi-threading, the overhead of testing was 0.000061 seconds.\n",
      "You can set `force_row_wise=true` to remove the overhead.\n",
      "And if memory is not enough, you can set `force_col_wise=true`.\n",
      "[LightGBM] [Info] Total Bins 40\n",
      "[LightGBM] [Info] Number of data points in the train set: 3769, number of used features: 6\n",
      "[LightGBM] [Info] [binary:BoostFromScore]: pavg=0.300080 -> initscore=-0.846919\n",
      "[LightGBM] [Info] Start training from score -0.846919\n",
      "[LightGBM] [Warning] Accuracy may be bad since you didn't explicitly set num_leaves OR 2^max_depth > num_leaves. (num_leaves=31).\n",
      "[LightGBM] [Warning] Accuracy may be bad since you didn't explicitly set num_leaves OR 2^max_depth > num_leaves. (num_leaves=31).\n",
      "[LightGBM] [Warning] Accuracy may be bad since you didn't explicitly set num_leaves OR 2^max_depth > num_leaves. (num_leaves=31).\n",
      "[LightGBM] [Info] Number of positive: 1132, number of negative: 2638\n",
      "[LightGBM] [Info] Auto-choosing row-wise multi-threading, the overhead of testing was 0.000059 seconds.\n",
      "You can set `force_row_wise=true` to remove the overhead.\n",
      "And if memory is not enough, you can set `force_col_wise=true`.\n",
      "[LightGBM] [Info] Total Bins 40\n",
      "[LightGBM] [Info] Number of data points in the train set: 3770, number of used features: 6\n",
      "[LightGBM] [Info] [binary:BoostFromScore]: pavg=0.300265 -> initscore=-0.846035\n",
      "[LightGBM] [Info] Start training from score -0.846035\n",
      "[LightGBM] [Warning] Accuracy may be bad since you didn't explicitly set num_leaves OR 2^max_depth > num_leaves. (num_leaves=31).\n",
      "[LightGBM] [Warning] Accuracy may be bad since you didn't explicitly set num_leaves OR 2^max_depth > num_leaves. (num_leaves=31).\n",
      "[LightGBM] [Warning] Accuracy may be bad since you didn't explicitly set num_leaves OR 2^max_depth > num_leaves. (num_leaves=31).\n",
      "[LightGBM] [Info] Number of positive: 1131, number of negative: 2639\n",
      "[LightGBM] [Info] Auto-choosing row-wise multi-threading, the overhead of testing was 0.000061 seconds.\n",
      "You can set `force_row_wise=true` to remove the overhead.\n",
      "And if memory is not enough, you can set `force_col_wise=true`.\n",
      "[LightGBM] [Info] Total Bins 40\n",
      "[LightGBM] [Info] Number of data points in the train set: 3770, number of used features: 6\n",
      "[LightGBM] [Info] [binary:BoostFromScore]: pavg=0.300000 -> initscore=-0.847298\n",
      "[LightGBM] [Info] Start training from score -0.847298\n",
      "[LightGBM] [Warning] Accuracy may be bad since you didn't explicitly set num_leaves OR 2^max_depth > num_leaves. (num_leaves=31).\n",
      "[LightGBM] [Warning] Accuracy may be bad since you didn't explicitly set num_leaves OR 2^max_depth > num_leaves. (num_leaves=31).\n",
      "[LightGBM] [Warning] Accuracy may be bad since you didn't explicitly set num_leaves OR 2^max_depth > num_leaves. (num_leaves=31).\n",
      "[LightGBM] [Info] Number of positive: 1131, number of negative: 2639\n",
      "[LightGBM] [Info] Auto-choosing row-wise multi-threading, the overhead of testing was 0.000066 seconds.\n",
      "You can set `force_row_wise=true` to remove the overhead.\n",
      "And if memory is not enough, you can set `force_col_wise=true`.\n",
      "[LightGBM] [Info] Total Bins 40\n",
      "[LightGBM] [Info] Number of data points in the train set: 3770, number of used features: 6\n",
      "[LightGBM] [Info] [binary:BoostFromScore]: pavg=0.300000 -> initscore=-0.847298\n",
      "[LightGBM] [Info] Start training from score -0.847298\n",
      "[LightGBM] [Warning] Accuracy may be bad since you didn't explicitly set num_leaves OR 2^max_depth > num_leaves. (num_leaves=31).\n",
      "[0.39222615 0.38515901 0.32269504 0.33922261 0.31448763]\n"
     ]
    },
    {
     "data": {
      "text/plain": [
       "0.3507580883642834"
      ]
     },
     "execution_count": 7,
     "metadata": {},
     "output_type": "execute_result"
    }
   ],
   "source": [
    "scores = cross_val_score(model, X_train, y_train, cv=5, scoring=metric.__name__.split('_')[0])\n",
    "print(scores)\n",
    "scores.mean()"
   ]
  },
  {
   "cell_type": "markdown",
   "metadata": {},
   "source": [
    "# Saving model"
   ]
  },
  {
   "cell_type": "code",
   "execution_count": null,
   "metadata": {},
   "outputs": [],
   "source": [
    "try:\n",
    "   os.makedirs(\"../tmp\")\n",
    "except FileExistsError:\n",
    "   # directory already exists\n",
    "   pass"
   ]
  },
  {
   "cell_type": "code",
   "execution_count": 13,
   "metadata": {},
   "outputs": [],
   "source": [
    "with open('../tmp/model.pkl', 'wb') as f:\n",
    "    pickle.dump(model, f)"
   ]
  },
  {
   "cell_type": "code",
   "execution_count": null,
   "metadata": {},
   "outputs": [],
   "source": []
  }
 ],
 "metadata": {
  "kernelspec": {
   "display_name": "gcp_demo2",
   "language": "python",
   "name": "python3"
  },
  "language_info": {
   "codemirror_mode": {
    "name": "ipython",
    "version": 3
   },
   "file_extension": ".py",
   "mimetype": "text/x-python",
   "name": "python",
   "nbconvert_exporter": "python",
   "pygments_lexer": "ipython3",
   "version": "3.11.6"
  }
 },
 "nbformat": 4,
 "nbformat_minor": 2
}
