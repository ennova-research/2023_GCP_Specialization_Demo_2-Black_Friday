{
 "cells": [
  {
   "cell_type": "markdown",
   "metadata": {},
   "source": [
    "# Data preprocessing\n",
    "We have seen that the users that spends the most (in total) are the ones that buy a lot of products with average prices. At the same time, the products more profitable have the same features, lots of purchases and an average price."
   ]
  },
  {
   "cell_type": "code",
   "execution_count": 1,
   "metadata": {},
   "outputs": [],
   "source": [
    "import sys\n",
    "sys.path.append('..')"
   ]
  },
  {
   "cell_type": "code",
   "execution_count": 2,
   "metadata": {},
   "outputs": [],
   "source": [
    "# Loading useful libraries\n",
    "\n",
    "import numpy as np\n",
    "import pandas as pd\n",
    "\n",
    "import os\n",
    "\n",
    "import Demo2"
   ]
  },
  {
   "cell_type": "code",
   "execution_count": 3,
   "metadata": {},
   "outputs": [],
   "source": [
    "# Getting dataset from CS\n",
    "\n",
    "# data = pd.read_csv('gs://engo-ml_spec2023-demo2/data_raw.csv')\n",
    "# data.head()"
   ]
  },
  {
   "cell_type": "code",
   "execution_count": 4,
   "metadata": {},
   "outputs": [
    {
     "data": {
      "text/html": [
       "<div>\n",
       "<style scoped>\n",
       "    .dataframe tbody tr th:only-of-type {\n",
       "        vertical-align: middle;\n",
       "    }\n",
       "\n",
       "    .dataframe tbody tr th {\n",
       "        vertical-align: top;\n",
       "    }\n",
       "\n",
       "    .dataframe thead th {\n",
       "        text-align: right;\n",
       "    }\n",
       "</style>\n",
       "<table border=\"1\" class=\"dataframe\">\n",
       "  <thead>\n",
       "    <tr style=\"text-align: right;\">\n",
       "      <th></th>\n",
       "      <th>Gender</th>\n",
       "      <th>Age</th>\n",
       "      <th>Occupation</th>\n",
       "      <th>City_Category</th>\n",
       "      <th>Stay_In_Current_City_Years</th>\n",
       "      <th>Marital_Status</th>\n",
       "      <th>Number of Purchases</th>\n",
       "      <th>Sum spent</th>\n",
       "      <th>Average Purchase</th>\n",
       "    </tr>\n",
       "    <tr>\n",
       "      <th>User_ID</th>\n",
       "      <th></th>\n",
       "      <th></th>\n",
       "      <th></th>\n",
       "      <th></th>\n",
       "      <th></th>\n",
       "      <th></th>\n",
       "      <th></th>\n",
       "      <th></th>\n",
       "      <th></th>\n",
       "    </tr>\n",
       "  </thead>\n",
       "  <tbody>\n",
       "    <tr>\n",
       "      <th>1003663</th>\n",
       "      <td>F</td>\n",
       "      <td>36-45</td>\n",
       "      <td>9</td>\n",
       "      <td>B</td>\n",
       "      <td>1</td>\n",
       "      <td>0</td>\n",
       "      <td>45</td>\n",
       "      <td>549674</td>\n",
       "      <td>12214.977778</td>\n",
       "    </tr>\n",
       "    <tr>\n",
       "      <th>1001386</th>\n",
       "      <td>F</td>\n",
       "      <td>26-35</td>\n",
       "      <td>0</td>\n",
       "      <td>B</td>\n",
       "      <td>1</td>\n",
       "      <td>0</td>\n",
       "      <td>42</td>\n",
       "      <td>385080</td>\n",
       "      <td>9168.571429</td>\n",
       "    </tr>\n",
       "    <tr>\n",
       "      <th>1005344</th>\n",
       "      <td>F</td>\n",
       "      <td>51-55</td>\n",
       "      <td>1</td>\n",
       "      <td>C</td>\n",
       "      <td>3</td>\n",
       "      <td>0</td>\n",
       "      <td>121</td>\n",
       "      <td>953172</td>\n",
       "      <td>7877.454545</td>\n",
       "    </tr>\n",
       "    <tr>\n",
       "      <th>1000298</th>\n",
       "      <td>F</td>\n",
       "      <td>18-25</td>\n",
       "      <td>4</td>\n",
       "      <td>C</td>\n",
       "      <td>2</td>\n",
       "      <td>0</td>\n",
       "      <td>15</td>\n",
       "      <td>137272</td>\n",
       "      <td>9151.466667</td>\n",
       "    </tr>\n",
       "    <tr>\n",
       "      <th>1004679</th>\n",
       "      <td>M</td>\n",
       "      <td>55+</td>\n",
       "      <td>13</td>\n",
       "      <td>C</td>\n",
       "      <td>4+</td>\n",
       "      <td>1</td>\n",
       "      <td>37</td>\n",
       "      <td>280273</td>\n",
       "      <td>7574.945946</td>\n",
       "    </tr>\n",
       "  </tbody>\n",
       "</table>\n",
       "</div>"
      ],
      "text/plain": [
       "        Gender    Age  Occupation City_Category Stay_In_Current_City_Years  \\\n",
       "User_ID                                                                      \n",
       "1003663      F  36-45           9             B                          1   \n",
       "1001386      F  26-35           0             B                          1   \n",
       "1005344      F  51-55           1             C                          3   \n",
       "1000298      F  18-25           4             C                          2   \n",
       "1004679      M    55+          13             C                         4+   \n",
       "\n",
       "         Marital_Status  Number of Purchases  Sum spent  Average Purchase  \n",
       "User_ID                                                                    \n",
       "1003663               0                   45     549674      12214.977778  \n",
       "1001386               0                   42     385080       9168.571429  \n",
       "1005344               0                  121     953172       7877.454545  \n",
       "1000298               0                   15     137272       9151.466667  \n",
       "1004679               1                   37     280273       7574.945946  "
      ]
     },
     "execution_count": 4,
     "metadata": {},
     "output_type": "execute_result"
    }
   ],
   "source": [
    "# Getting dataset from local file\n",
    "\n",
    "users = pd.read_csv('../tmp/users_train.csv', index_col='User_ID')\n",
    "users_test = pd.read_csv('../tmp/users_test.csv', index_col='User_ID')\n",
    "\n",
    "users.head()"
   ]
  },
  {
   "cell_type": "code",
   "execution_count": 5,
   "metadata": {},
   "outputs": [],
   "source": [
    "# Selecting \"regression\" or \"classification\"\n",
    "\n",
    "model_type = \"classification\"\n",
    "\n",
    "assert(model_type in [\"regression\", \"classification\"])"
   ]
  },
  {
   "cell_type": "code",
   "execution_count": 6,
   "metadata": {},
   "outputs": [],
   "source": [
    "# Preprocessing\n",
    "\n",
    "X_cols = ['Gender', 'Age', 'Occupation', 'City_Category', 'Stay_In_Current_City_Years', 'Marital_Status']\n",
    "\n",
    "if model_type == \"regression\":\n",
    "     X_train, y_train, X_test, y_test = Demo2.preprocess_per_regression(users, users_test, X_cols=X_cols, y_col='Sum spent')\n",
    "else:\n",
    "    X_train, y_train, X_test, y_test = Demo2.preprocess_per_classification(users, users_test, X_cols=X_cols,\n",
    "                                                                           old_y_col='Sum spent', new_y_col='is_BigSpender')"
   ]
  },
  {
   "cell_type": "markdown",
   "metadata": {},
   "source": [
    "# Saving data"
   ]
  },
  {
   "cell_type": "code",
   "execution_count": 7,
   "metadata": {},
   "outputs": [],
   "source": [
    "try:\n",
    "   os.makedirs(\"../tmp\")\n",
    "except FileExistsError:\n",
    "   # directory already exists\n",
    "   pass"
   ]
  },
  {
   "cell_type": "code",
   "execution_count": 8,
   "metadata": {},
   "outputs": [],
   "source": [
    "X_train.to_csv(f'../tmp/X_train_{model_type}.csv')\n",
    "y_train.to_csv(f'../tmp/y_train_{model_type}.csv')\n",
    "X_test.to_csv(f'../tmp/X_test_{model_type}.csv')\n",
    "y_test.to_csv(f'../tmp/y_test_{model_type}.csv')"
   ]
  },
  {
   "cell_type": "code",
   "execution_count": null,
   "metadata": {},
   "outputs": [],
   "source": []
  }
 ],
 "metadata": {
  "kernelspec": {
   "display_name": "gcp_demo2",
   "language": "python",
   "name": "python3"
  },
  "language_info": {
   "codemirror_mode": {
    "name": "ipython",
    "version": 3
   },
   "file_extension": ".py",
   "mimetype": "text/x-python",
   "name": "python",
   "nbconvert_exporter": "python",
   "pygments_lexer": "ipython3",
   "version": "3.11.6"
  }
 },
 "nbformat": 4,
 "nbformat_minor": 2
}
